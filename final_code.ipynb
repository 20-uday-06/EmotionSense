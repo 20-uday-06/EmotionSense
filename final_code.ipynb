{
  "cells": [
    {
      "cell_type": "markdown",
      "id": "3b012a8e",
      "metadata": {
        "id": "3b012a8e"
      },
      "source": [
        "## Libraries"
      ]
    },
    {
      "cell_type": "code",
      "source": [
        "!pip install numpy pandas librosa matplotlib seaborn scikit-learn keras resampy keras-focal-loss\n"
      ],
      "metadata": {
        "colab": {
          "base_uri": "https://localhost:8080/"
        },
        "id": "lSrpIotZGtcY",
        "outputId": "d156b19e-38e1-4b3f-8bfb-aff19b1bb4b3"
      },
      "id": "lSrpIotZGtcY",
      "execution_count": 1,
      "outputs": [
        {
          "output_type": "stream",
          "name": "stdout",
          "text": [
            "Requirement already satisfied: numpy in /usr/local/lib/python3.11/dist-packages (2.0.2)\n",
            "Requirement already satisfied: pandas in /usr/local/lib/python3.11/dist-packages (2.2.2)\n",
            "Requirement already satisfied: librosa in /usr/local/lib/python3.11/dist-packages (0.11.0)\n",
            "Requirement already satisfied: matplotlib in /usr/local/lib/python3.11/dist-packages (3.10.0)\n",
            "Requirement already satisfied: seaborn in /usr/local/lib/python3.11/dist-packages (0.13.2)\n",
            "Requirement already satisfied: scikit-learn in /usr/local/lib/python3.11/dist-packages (1.6.1)\n",
            "Requirement already satisfied: keras in /usr/local/lib/python3.11/dist-packages (3.8.0)\n",
            "Requirement already satisfied: resampy in /usr/local/lib/python3.11/dist-packages (0.4.3)\n",
            "\u001b[31mERROR: Could not find a version that satisfies the requirement keras-focal-loss (from versions: none)\u001b[0m\u001b[31m\n",
            "\u001b[0m\u001b[31mERROR: No matching distribution found for keras-focal-loss\u001b[0m\u001b[31m\n",
            "\u001b[0m"
          ]
        }
      ]
    },
    {
      "cell_type": "code",
      "source": [
        "import tensorflow.keras.backend as K\n",
        "import tensorflow as tf\n",
        "\n",
        "def categorical_focal_loss(gamma=2., alpha=.25):\n",
        "    def focal_loss(y_true, y_pred):\n",
        "        epsilon = K.epsilon()\n",
        "        y_pred = K.clip(y_pred, epsilon, 1. - epsilon)\n",
        "        cross_entropy = -y_true * K.log(y_pred)\n",
        "        weight = alpha * K.pow(1 - y_pred, gamma)\n",
        "        loss = weight * cross_entropy\n",
        "        return K.sum(loss, axis=1)\n",
        "    return focal_loss\n"
      ],
      "metadata": {
        "id": "xy3oWLMQQIRC"
      },
      "id": "xy3oWLMQQIRC",
      "execution_count": 4,
      "outputs": []
    },
    {
      "cell_type": "code",
      "execution_count": 7,
      "id": "3be8f281",
      "metadata": {
        "id": "3be8f281"
      },
      "outputs": [],
      "source": [
        "import os\n",
        "import numpy as np\n",
        "import pandas as pd\n",
        "import librosa\n",
        "from sklearn.preprocessing import LabelEncoder, StandardScaler\n",
        "from sklearn.model_selection import train_test_split\n",
        "from sklearn.utils.class_weight import compute_class_weight\n",
        "from sklearn.metrics import classification_report, confusion_matrix, f1_score\n",
        "from tensorflow.keras.utils import to_categorical\n",
        "from tensorflow.keras.models import Sequential\n",
        "from tensorflow.keras.layers import (Conv1D, MaxPooling1D, BatchNormalization, Dropout,\n",
        "                                     Flatten, Dense, LSTM, Bidirectional, GlobalAveragePooling1D)\n",
        "from tensorflow.keras.optimizers import Adam\n",
        "from tensorflow.keras.callbacks import EarlyStopping, ReduceLROnPlateau\n",
        "# from keras_focal_loss import categorical_focal_loss?"
      ]
    },
    {
      "cell_type": "code",
      "source": [
        "from google.colab import drive\n",
        "drive.mount('/content/drive')\n"
      ],
      "metadata": {
        "colab": {
          "base_uri": "https://localhost:8080/"
        },
        "id": "TAAQaleOH7TB",
        "outputId": "ba6ad58b-1cb0-4216-f074-d370db2c40ed"
      },
      "id": "TAAQaleOH7TB",
      "execution_count": 8,
      "outputs": [
        {
          "output_type": "stream",
          "name": "stdout",
          "text": [
            "Drive already mounted at /content/drive; to attempt to forcibly remount, call drive.mount(\"/content/drive\", force_remount=True).\n"
          ]
        }
      ]
    },
    {
      "cell_type": "markdown",
      "id": "75afbd66",
      "metadata": {
        "id": "75afbd66"
      },
      "source": [
        "## Import"
      ]
    },
    {
      "cell_type": "code",
      "source": [
        "speech_path = '/content/drive/MyDrive/mars/Audio_Speech_Actors_01-24'\n",
        "song_path = '/content/drive/MyDrive/mars/Audio_Song_Actors_01-24'\n"
      ],
      "metadata": {
        "id": "pLXwqWrsIinC"
      },
      "id": "pLXwqWrsIinC",
      "execution_count": 9,
      "outputs": []
    },
    {
      "cell_type": "code",
      "execution_count": 6,
      "id": "84b69236",
      "metadata": {
        "id": "84b69236"
      },
      "outputs": [],
      "source": [
        "# # Cell 2\n",
        "# # Define Dataset Paths\n",
        "\n",
        "# speech_path = 'path_to/Audio_Speech_Actors_01-24'\n",
        "# song_path = 'path_to/Audio_Song_Actors_01-24'\n"
      ]
    },
    {
      "cell_type": "markdown",
      "id": "fbe43a9d",
      "metadata": {
        "id": "fbe43a9d"
      },
      "source": [
        "## Emotion Mapping"
      ]
    },
    {
      "cell_type": "code",
      "execution_count": 10,
      "id": "b5129abc",
      "metadata": {
        "id": "b5129abc"
      },
      "outputs": [],
      "source": [
        "# Cell 3\n",
        "# Define Emotion Mapping according to RAVDESS filename convention\n",
        "\n",
        "emotion_dict = {\n",
        "    '01': 'neutral',\n",
        "    '02': 'calm',\n",
        "    '03': 'happy',\n",
        "    '04': 'sad',\n",
        "    '05': 'angry',\n",
        "    '06': 'fearful',\n",
        "    '07': 'disgust',\n",
        "    '08': 'surprised'\n",
        "}\n"
      ]
    },
    {
      "cell_type": "markdown",
      "id": "21044e34",
      "metadata": {
        "id": "21044e34"
      },
      "source": [
        "## Extract Features"
      ]
    },
    {
      "cell_type": "code",
      "execution_count": 8,
      "id": "fbbd09e9",
      "metadata": {
        "id": "fbbd09e9"
      },
      "outputs": [],
      "source": [
        "# def extract_features(file_path, augment=False):\n",
        "#     y, sr = librosa.load(file_path, duration=3, offset=0.5, sr=22050)  # ← Fixed sr\n",
        "\n",
        "#     if augment:\n",
        "#         n_steps = np.random.randint(-2, 3)\n",
        "#         y = librosa.effects.pitch_shift(y, sr=sr, n_steps=n_steps)\n",
        "#         noise_amp = 0.005 * np.random.uniform() * np.amax(y)\n",
        "#         y += noise_amp * np.random.normal(size=y.shape)\n",
        "#         pad_len = np.random.randint(0, 2000)\n",
        "#         y = np.pad(y, (pad_len, 0), mode='constant')[:sr*3]\n",
        "\n",
        "#     mfcc = librosa.feature.mfcc(y=y, sr=sr, n_mfcc=60, hop_length=512)  # shape: (60, time_steps)\n",
        "\n",
        "#     # CRITICAL: Ensure consistent time dimension BEFORE transpose\n",
        "#     target_length = 130  # ~3 seconds at sr=22050, hop_length=512\n",
        "#     if mfcc.shape[1] < target_length:  # ✓ shape[1] is time_steps before transpose\n",
        "#         # Pad with zeros\n",
        "#         pad_width = target_length - mfcc.shape[1]\n",
        "#         mfcc = np.pad(mfcc, ((0, 0), (0, pad_width)), mode='constant')\n",
        "#     else:\n",
        "#         # Truncate\n",
        "#         mfcc = mfcc[:, :target_length]\n",
        "\n",
        "#     # Now transpose to (time_steps, features)\n",
        "#     mfcc = mfcc.T  # shape: (130, 60)\n",
        "#     return mfcc"
      ]
    },
    {
      "cell_type": "code",
      "source": [
        "def extract_features(file_path, augment=False, label=None):\n",
        "    y, sr = librosa.load(file_path, duration=3, offset=0.5, sr=22050)\n",
        "\n",
        "    if augment and label in ['sad', 'happy']:\n",
        "        n_steps = np.random.randint(-3, 4)\n",
        "        y = librosa.effects.pitch_shift(y, sr=sr, n_steps=n_steps)\n",
        "        noise_amp = 0.005 * np.random.uniform() * np.amax(y)\n",
        "        y += noise_amp * np.random.normal(size=y.shape)\n",
        "        pad_len = np.random.randint(0, 2000)\n",
        "        y = np.pad(y, (pad_len, 0), mode='constant')[:sr*3]\n",
        "        # Extra Augment\n",
        "        if np.random.rand() < 0.5:\n",
        "            y = librosa.effects.time_stretch(y, rate=np.random.uniform(0.8, 1.2))\n",
        "\n",
        "    mfcc = librosa.feature.mfcc(y=y, sr=sr, n_mfcc=60, hop_length=512)\n",
        "    target_length = 130\n",
        "    if mfcc.shape[1] < target_length:\n",
        "        pad_width = target_length - mfcc.shape[1]\n",
        "        mfcc = np.pad(mfcc, ((0, 0), (0, pad_width)), mode='constant')\n",
        "    else:\n",
        "        mfcc = mfcc[:, :target_length]\n",
        "    return mfcc.T\n"
      ],
      "metadata": {
        "id": "EMWvhhqKPliy"
      },
      "id": "EMWvhhqKPliy",
      "execution_count": 11,
      "outputs": []
    },
    {
      "cell_type": "code",
      "execution_count": 12,
      "id": "07ed7eae",
      "metadata": {
        "colab": {
          "base_uri": "https://localhost:8080/"
        },
        "id": "07ed7eae",
        "outputId": "fea0a7f7-08d7-403d-f962-f4d0c7b19d13"
      },
      "outputs": [
        {
          "output_type": "stream",
          "name": "stdout",
          "text": [
            "Starting Feature Extraction Process...\n",
            "\n",
            "Processing Speech Files...\n",
            "Processing Speech Actor Folder: Actor_05\n",
            "Processing Speech Actor Folder: Actor_03\n",
            "Processing Speech Actor Folder: Actor_09\n",
            "Processing Speech Actor Folder: Actor_06\n",
            "Processing Speech Actor Folder: Actor_08\n",
            "Processing Speech Actor Folder: Actor_04\n",
            "Processing Speech Actor Folder: Actor_02\n",
            "Processing Speech Actor Folder: Actor_01\n",
            "Processing Speech Actor Folder: Actor_07\n",
            "Processing Speech Actor Folder: Actor_11\n",
            "Processing Speech Actor Folder: Actor_16\n",
            "Processing Speech Actor Folder: Actor_17\n",
            "Processing Speech Actor Folder: Actor_12\n",
            "Processing Speech Actor Folder: Actor_18\n",
            "Processing Speech Actor Folder: Actor_14\n",
            "Processing Speech Actor Folder: Actor_15\n",
            "Processing Speech Actor Folder: Actor_13\n",
            "Processing Speech Actor Folder: Actor_10\n",
            "Processing Speech Actor Folder: Actor_19\n",
            "Processing Speech Actor Folder: Actor_20\n",
            "Processing Speech Actor Folder: Actor_24\n",
            "Processing Speech Actor Folder: Actor_22\n",
            "Processing Speech Actor Folder: Actor_21\n",
            "Processing Speech Actor Folder: Actor_23\n",
            "\n",
            "Finished processing Speech Files.\n",
            "\n",
            "Processing Song Files...\n",
            "Processing Song Actor Folder: Actor_10\n",
            "Processing Song Actor Folder: Actor_02\n",
            "Processing Song Actor Folder: Actor_05\n",
            "Processing Song Actor Folder: Actor_01\n",
            "Processing Song Actor Folder: Actor_04\n",
            "Processing Song Actor Folder: Actor_06\n",
            "Processing Song Actor Folder: Actor_07\n",
            "Processing Song Actor Folder: Actor_08\n",
            "Processing Song Actor Folder: Actor_03\n",
            "Processing Song Actor Folder: Actor_09\n",
            "Processing Song Actor Folder: Actor_12\n",
            "Processing Song Actor Folder: Actor_14\n",
            "Processing Song Actor Folder: Actor_16\n",
            "Processing Song Actor Folder: Actor_18\n",
            "Processing Song Actor Folder: Actor_17\n",
            "Processing Song Actor Folder: Actor_13\n",
            "Processing Song Actor Folder: Actor_15\n",
            "Processing Song Actor Folder: Actor_11\n",
            "Processing Song Actor Folder: Actor_20\n",
            "Processing Song Actor Folder: Actor_19\n",
            "Processing Song Actor Folder: Actor_21\n",
            "Processing Song Actor Folder: Actor_23\n",
            "Processing Song Actor Folder: Actor_24\n",
            "Processing Song Actor Folder: Actor_22\n",
            "\n",
            "Finished processing Song Files.\n",
            "\n",
            "Creating DataFrame from extracted features...\n",
            "DataFrame created successfully!\n",
            "Total samples: 4904\n",
            "\n"
          ]
        }
      ],
      "source": [
        "features = []\n",
        "\n",
        "print(\"Starting Feature Extraction Process...\\n\")\n",
        "\n",
        "print(\"Processing Speech Files...\")\n",
        "for folder in os.listdir(speech_path):\n",
        "    print(f\"Processing Speech Actor Folder: {folder}\")\n",
        "    for file in os.listdir(os.path.join(speech_path, folder)):\n",
        "        file_path = os.path.join(speech_path, folder, file)\n",
        "        emotion_label = emotion_dict[file.split('-')[2]]\n",
        "\n",
        "        features.append([extract_features(file_path, augment=False), emotion_label])\n",
        "        features.append([extract_features(file_path, augment=True), emotion_label])\n",
        "\n",
        "print(\"\\nFinished processing Speech Files.\\n\")\n",
        "\n",
        "print(\"Processing Song Files...\")\n",
        "for folder in os.listdir(song_path):\n",
        "    print(f\"Processing Song Actor Folder: {folder}\")\n",
        "    for file in os.listdir(os.path.join(song_path, folder)):\n",
        "        file_path = os.path.join(song_path, folder, file)\n",
        "        emotion_label = emotion_dict[file.split('-')[2]]\n",
        "\n",
        "        features.append([extract_features(file_path, augment=False), emotion_label])\n",
        "        features.append([extract_features(file_path, augment=True), emotion_label])\n",
        "\n",
        "print(\"\\nFinished processing Song Files.\\n\")\n",
        "\n",
        "print(\"Creating DataFrame from extracted features...\")\n",
        "df = pd.DataFrame(features, columns=['feature', 'emotion'])\n",
        "print(\"DataFrame created successfully!\")\n",
        "print(f\"Total samples: {len(df)}\\n\")"
      ]
    },
    {
      "cell_type": "markdown",
      "id": "c7ec97ad",
      "metadata": {
        "id": "c7ec97ad"
      },
      "source": [
        "## Encoding and splitting"
      ]
    },
    {
      "cell_type": "code",
      "execution_count": 13,
      "id": "72c2f0cb",
      "metadata": {
        "id": "72c2f0cb",
        "colab": {
          "base_uri": "https://localhost:8080/"
        },
        "outputId": "904b8878-5c49-455f-e736-4c4cc3372e32"
      },
      "outputs": [
        {
          "output_type": "stream",
          "name": "stdout",
          "text": [
            "Classes: ['angry' 'calm' 'disgust' 'fearful' 'happy' 'neutral' 'sad' 'surprised']\n"
          ]
        }
      ],
      "source": [
        "X = np.array([i for i in df['feature']])\n",
        "y = np.array(df['emotion'].tolist())\n",
        "\n",
        "# Label Encoding\n",
        "label_encoder = LabelEncoder()\n",
        "y_encoded = label_encoder.fit_transform(y)\n",
        "y_cat = to_categorical(y_encoded)\n",
        "print(\"Classes:\", label_encoder.classes_)"
      ]
    },
    {
      "cell_type": "markdown",
      "id": "bd4c0699",
      "metadata": {
        "id": "bd4c0699"
      },
      "source": [
        "## feature scalling"
      ]
    },
    {
      "cell_type": "code",
      "execution_count": 14,
      "id": "1205af2c",
      "metadata": {
        "id": "1205af2c"
      },
      "outputs": [],
      "source": [
        "num_samples, time_steps, n_mfcc = X.shape\n",
        "X_flat = X.reshape(num_samples * time_steps, n_mfcc)\n",
        "scaler = StandardScaler()\n",
        "X_scaled_flat = scaler.fit_transform(X_flat)\n",
        "## CHANGE\n",
        "X_scaled = X_scaled_flat.reshape(num_samples, time_steps, n_mfcc)"
      ]
    },
    {
      "cell_type": "markdown",
      "id": "4a42fd17",
      "metadata": {
        "id": "4a42fd17"
      },
      "source": [
        "## Split"
      ]
    },
    {
      "cell_type": "code",
      "execution_count": 15,
      "id": "b6e71234",
      "metadata": {
        "id": "b6e71234"
      },
      "outputs": [],
      "source": [
        "# Train-Test Split\n",
        "X_train, X_test, y_train, y_test = train_test_split(\n",
        "    X_scaled, y_cat, test_size=0.2, random_state=42, stratify=y_cat)"
      ]
    },
    {
      "cell_type": "markdown",
      "source": [
        "## Imbalance"
      ],
      "metadata": {
        "id": "ej_AYeza6d-d"
      },
      "id": "ej_AYeza6d-d"
    },
    {
      "cell_type": "code",
      "source": [
        "y_train_encoded = np.argmax(y_train, axis=1)\n",
        "class_weights = compute_class_weight('balanced', classes=np.unique(y_train_encoded), y=y_train_encoded)\n",
        "class_weight_dict = dict(enumerate(class_weights))"
      ],
      "metadata": {
        "id": "kx5yR11s6fyj"
      },
      "id": "kx5yR11s6fyj",
      "execution_count": 16,
      "outputs": []
    },
    {
      "cell_type": "markdown",
      "id": "071011f4",
      "metadata": {
        "id": "071011f4"
      },
      "source": [
        "## Model"
      ]
    },
    {
      "cell_type": "code",
      "execution_count": 17,
      "id": "6e76058c",
      "metadata": {
        "id": "6e76058c",
        "colab": {
          "base_uri": "https://localhost:8080/",
          "height": 776
        },
        "outputId": "501b95ed-407b-47e1-a497-5caceda2daa3"
      },
      "outputs": [
        {
          "output_type": "stream",
          "name": "stderr",
          "text": [
            "/usr/local/lib/python3.11/dist-packages/keras/src/layers/convolutional/base_conv.py:107: UserWarning: Do not pass an `input_shape`/`input_dim` argument to a layer. When using Sequential models, prefer using an `Input(shape)` object as the first layer in the model instead.\n",
            "  super().__init__(activity_regularizer=activity_regularizer, **kwargs)\n"
          ]
        },
        {
          "output_type": "display_data",
          "data": {
            "text/plain": [
              "\u001b[1mModel: \"sequential\"\u001b[0m\n"
            ],
            "text/html": [
              "<pre style=\"white-space:pre;overflow-x:auto;line-height:normal;font-family:Menlo,'DejaVu Sans Mono',consolas,'Courier New',monospace\"><span style=\"font-weight: bold\">Model: \"sequential\"</span>\n",
              "</pre>\n"
            ]
          },
          "metadata": {}
        },
        {
          "output_type": "display_data",
          "data": {
            "text/plain": [
              "┏━━━━━━━━━━━━━━━━━━━━━━━━━━━━━━━━━┳━━━━━━━━━━━━━━━━━━━━━━━━┳━━━━━━━━━━━━━━━┓\n",
              "┃\u001b[1m \u001b[0m\u001b[1mLayer (type)                   \u001b[0m\u001b[1m \u001b[0m┃\u001b[1m \u001b[0m\u001b[1mOutput Shape          \u001b[0m\u001b[1m \u001b[0m┃\u001b[1m \u001b[0m\u001b[1m      Param #\u001b[0m\u001b[1m \u001b[0m┃\n",
              "┡━━━━━━━━━━━━━━━━━━━━━━━━━━━━━━━━━╇━━━━━━━━━━━━━━━━━━━━━━━━╇━━━━━━━━━━━━━━━┩\n",
              "│ conv1d (\u001b[38;5;33mConv1D\u001b[0m)                 │ (\u001b[38;5;45mNone\u001b[0m, \u001b[38;5;34m130\u001b[0m, \u001b[38;5;34m128\u001b[0m)       │        \u001b[38;5;34m38,528\u001b[0m │\n",
              "├─────────────────────────────────┼────────────────────────┼───────────────┤\n",
              "│ batch_normalization             │ (\u001b[38;5;45mNone\u001b[0m, \u001b[38;5;34m130\u001b[0m, \u001b[38;5;34m128\u001b[0m)       │           \u001b[38;5;34m512\u001b[0m │\n",
              "│ (\u001b[38;5;33mBatchNormalization\u001b[0m)            │                        │               │\n",
              "├─────────────────────────────────┼────────────────────────┼───────────────┤\n",
              "│ max_pooling1d (\u001b[38;5;33mMaxPooling1D\u001b[0m)    │ (\u001b[38;5;45mNone\u001b[0m, \u001b[38;5;34m65\u001b[0m, \u001b[38;5;34m128\u001b[0m)        │             \u001b[38;5;34m0\u001b[0m │\n",
              "├─────────────────────────────────┼────────────────────────┼───────────────┤\n",
              "│ dropout (\u001b[38;5;33mDropout\u001b[0m)               │ (\u001b[38;5;45mNone\u001b[0m, \u001b[38;5;34m65\u001b[0m, \u001b[38;5;34m128\u001b[0m)        │             \u001b[38;5;34m0\u001b[0m │\n",
              "├─────────────────────────────────┼────────────────────────┼───────────────┤\n",
              "│ conv1d_1 (\u001b[38;5;33mConv1D\u001b[0m)               │ (\u001b[38;5;45mNone\u001b[0m, \u001b[38;5;34m65\u001b[0m, \u001b[38;5;34m64\u001b[0m)         │        \u001b[38;5;34m41,024\u001b[0m │\n",
              "├─────────────────────────────────┼────────────────────────┼───────────────┤\n",
              "│ batch_normalization_1           │ (\u001b[38;5;45mNone\u001b[0m, \u001b[38;5;34m65\u001b[0m, \u001b[38;5;34m64\u001b[0m)         │           \u001b[38;5;34m256\u001b[0m │\n",
              "│ (\u001b[38;5;33mBatchNormalization\u001b[0m)            │                        │               │\n",
              "├─────────────────────────────────┼────────────────────────┼───────────────┤\n",
              "│ max_pooling1d_1 (\u001b[38;5;33mMaxPooling1D\u001b[0m)  │ (\u001b[38;5;45mNone\u001b[0m, \u001b[38;5;34m32\u001b[0m, \u001b[38;5;34m64\u001b[0m)         │             \u001b[38;5;34m0\u001b[0m │\n",
              "├─────────────────────────────────┼────────────────────────┼───────────────┤\n",
              "│ dropout_1 (\u001b[38;5;33mDropout\u001b[0m)             │ (\u001b[38;5;45mNone\u001b[0m, \u001b[38;5;34m32\u001b[0m, \u001b[38;5;34m64\u001b[0m)         │             \u001b[38;5;34m0\u001b[0m │\n",
              "├─────────────────────────────────┼────────────────────────┼───────────────┤\n",
              "│ conv1d_2 (\u001b[38;5;33mConv1D\u001b[0m)               │ (\u001b[38;5;45mNone\u001b[0m, \u001b[38;5;34m32\u001b[0m, \u001b[38;5;34m32\u001b[0m)         │         \u001b[38;5;34m6,176\u001b[0m │\n",
              "├─────────────────────────────────┼────────────────────────┼───────────────┤\n",
              "│ batch_normalization_2           │ (\u001b[38;5;45mNone\u001b[0m, \u001b[38;5;34m32\u001b[0m, \u001b[38;5;34m32\u001b[0m)         │           \u001b[38;5;34m128\u001b[0m │\n",
              "│ (\u001b[38;5;33mBatchNormalization\u001b[0m)            │                        │               │\n",
              "├─────────────────────────────────┼────────────────────────┼───────────────┤\n",
              "│ bidirectional (\u001b[38;5;33mBidirectional\u001b[0m)   │ (\u001b[38;5;45mNone\u001b[0m, \u001b[38;5;34m32\u001b[0m, \u001b[38;5;34m256\u001b[0m)        │       \u001b[38;5;34m164,864\u001b[0m │\n",
              "├─────────────────────────────────┼────────────────────────┼───────────────┤\n",
              "│ dropout_2 (\u001b[38;5;33mDropout\u001b[0m)             │ (\u001b[38;5;45mNone\u001b[0m, \u001b[38;5;34m32\u001b[0m, \u001b[38;5;34m256\u001b[0m)        │             \u001b[38;5;34m0\u001b[0m │\n",
              "├─────────────────────────────────┼────────────────────────┼───────────────┤\n",
              "│ bidirectional_1 (\u001b[38;5;33mBidirectional\u001b[0m) │ (\u001b[38;5;45mNone\u001b[0m, \u001b[38;5;34m128\u001b[0m)            │       \u001b[38;5;34m164,352\u001b[0m │\n",
              "├─────────────────────────────────┼────────────────────────┼───────────────┤\n",
              "│ dropout_3 (\u001b[38;5;33mDropout\u001b[0m)             │ (\u001b[38;5;45mNone\u001b[0m, \u001b[38;5;34m128\u001b[0m)            │             \u001b[38;5;34m0\u001b[0m │\n",
              "├─────────────────────────────────┼────────────────────────┼───────────────┤\n",
              "│ dense (\u001b[38;5;33mDense\u001b[0m)                   │ (\u001b[38;5;45mNone\u001b[0m, \u001b[38;5;34m128\u001b[0m)            │        \u001b[38;5;34m16,512\u001b[0m │\n",
              "├─────────────────────────────────┼────────────────────────┼───────────────┤\n",
              "│ dropout_4 (\u001b[38;5;33mDropout\u001b[0m)             │ (\u001b[38;5;45mNone\u001b[0m, \u001b[38;5;34m128\u001b[0m)            │             \u001b[38;5;34m0\u001b[0m │\n",
              "├─────────────────────────────────┼────────────────────────┼───────────────┤\n",
              "│ dense_1 (\u001b[38;5;33mDense\u001b[0m)                 │ (\u001b[38;5;45mNone\u001b[0m, \u001b[38;5;34m8\u001b[0m)              │         \u001b[38;5;34m1,032\u001b[0m │\n",
              "└─────────────────────────────────┴────────────────────────┴───────────────┘\n"
            ],
            "text/html": [
              "<pre style=\"white-space:pre;overflow-x:auto;line-height:normal;font-family:Menlo,'DejaVu Sans Mono',consolas,'Courier New',monospace\">┏━━━━━━━━━━━━━━━━━━━━━━━━━━━━━━━━━┳━━━━━━━━━━━━━━━━━━━━━━━━┳━━━━━━━━━━━━━━━┓\n",
              "┃<span style=\"font-weight: bold\"> Layer (type)                    </span>┃<span style=\"font-weight: bold\"> Output Shape           </span>┃<span style=\"font-weight: bold\">       Param # </span>┃\n",
              "┡━━━━━━━━━━━━━━━━━━━━━━━━━━━━━━━━━╇━━━━━━━━━━━━━━━━━━━━━━━━╇━━━━━━━━━━━━━━━┩\n",
              "│ conv1d (<span style=\"color: #0087ff; text-decoration-color: #0087ff\">Conv1D</span>)                 │ (<span style=\"color: #00d7ff; text-decoration-color: #00d7ff\">None</span>, <span style=\"color: #00af00; text-decoration-color: #00af00\">130</span>, <span style=\"color: #00af00; text-decoration-color: #00af00\">128</span>)       │        <span style=\"color: #00af00; text-decoration-color: #00af00\">38,528</span> │\n",
              "├─────────────────────────────────┼────────────────────────┼───────────────┤\n",
              "│ batch_normalization             │ (<span style=\"color: #00d7ff; text-decoration-color: #00d7ff\">None</span>, <span style=\"color: #00af00; text-decoration-color: #00af00\">130</span>, <span style=\"color: #00af00; text-decoration-color: #00af00\">128</span>)       │           <span style=\"color: #00af00; text-decoration-color: #00af00\">512</span> │\n",
              "│ (<span style=\"color: #0087ff; text-decoration-color: #0087ff\">BatchNormalization</span>)            │                        │               │\n",
              "├─────────────────────────────────┼────────────────────────┼───────────────┤\n",
              "│ max_pooling1d (<span style=\"color: #0087ff; text-decoration-color: #0087ff\">MaxPooling1D</span>)    │ (<span style=\"color: #00d7ff; text-decoration-color: #00d7ff\">None</span>, <span style=\"color: #00af00; text-decoration-color: #00af00\">65</span>, <span style=\"color: #00af00; text-decoration-color: #00af00\">128</span>)        │             <span style=\"color: #00af00; text-decoration-color: #00af00\">0</span> │\n",
              "├─────────────────────────────────┼────────────────────────┼───────────────┤\n",
              "│ dropout (<span style=\"color: #0087ff; text-decoration-color: #0087ff\">Dropout</span>)               │ (<span style=\"color: #00d7ff; text-decoration-color: #00d7ff\">None</span>, <span style=\"color: #00af00; text-decoration-color: #00af00\">65</span>, <span style=\"color: #00af00; text-decoration-color: #00af00\">128</span>)        │             <span style=\"color: #00af00; text-decoration-color: #00af00\">0</span> │\n",
              "├─────────────────────────────────┼────────────────────────┼───────────────┤\n",
              "│ conv1d_1 (<span style=\"color: #0087ff; text-decoration-color: #0087ff\">Conv1D</span>)               │ (<span style=\"color: #00d7ff; text-decoration-color: #00d7ff\">None</span>, <span style=\"color: #00af00; text-decoration-color: #00af00\">65</span>, <span style=\"color: #00af00; text-decoration-color: #00af00\">64</span>)         │        <span style=\"color: #00af00; text-decoration-color: #00af00\">41,024</span> │\n",
              "├─────────────────────────────────┼────────────────────────┼───────────────┤\n",
              "│ batch_normalization_1           │ (<span style=\"color: #00d7ff; text-decoration-color: #00d7ff\">None</span>, <span style=\"color: #00af00; text-decoration-color: #00af00\">65</span>, <span style=\"color: #00af00; text-decoration-color: #00af00\">64</span>)         │           <span style=\"color: #00af00; text-decoration-color: #00af00\">256</span> │\n",
              "│ (<span style=\"color: #0087ff; text-decoration-color: #0087ff\">BatchNormalization</span>)            │                        │               │\n",
              "├─────────────────────────────────┼────────────────────────┼───────────────┤\n",
              "│ max_pooling1d_1 (<span style=\"color: #0087ff; text-decoration-color: #0087ff\">MaxPooling1D</span>)  │ (<span style=\"color: #00d7ff; text-decoration-color: #00d7ff\">None</span>, <span style=\"color: #00af00; text-decoration-color: #00af00\">32</span>, <span style=\"color: #00af00; text-decoration-color: #00af00\">64</span>)         │             <span style=\"color: #00af00; text-decoration-color: #00af00\">0</span> │\n",
              "├─────────────────────────────────┼────────────────────────┼───────────────┤\n",
              "│ dropout_1 (<span style=\"color: #0087ff; text-decoration-color: #0087ff\">Dropout</span>)             │ (<span style=\"color: #00d7ff; text-decoration-color: #00d7ff\">None</span>, <span style=\"color: #00af00; text-decoration-color: #00af00\">32</span>, <span style=\"color: #00af00; text-decoration-color: #00af00\">64</span>)         │             <span style=\"color: #00af00; text-decoration-color: #00af00\">0</span> │\n",
              "├─────────────────────────────────┼────────────────────────┼───────────────┤\n",
              "│ conv1d_2 (<span style=\"color: #0087ff; text-decoration-color: #0087ff\">Conv1D</span>)               │ (<span style=\"color: #00d7ff; text-decoration-color: #00d7ff\">None</span>, <span style=\"color: #00af00; text-decoration-color: #00af00\">32</span>, <span style=\"color: #00af00; text-decoration-color: #00af00\">32</span>)         │         <span style=\"color: #00af00; text-decoration-color: #00af00\">6,176</span> │\n",
              "├─────────────────────────────────┼────────────────────────┼───────────────┤\n",
              "│ batch_normalization_2           │ (<span style=\"color: #00d7ff; text-decoration-color: #00d7ff\">None</span>, <span style=\"color: #00af00; text-decoration-color: #00af00\">32</span>, <span style=\"color: #00af00; text-decoration-color: #00af00\">32</span>)         │           <span style=\"color: #00af00; text-decoration-color: #00af00\">128</span> │\n",
              "│ (<span style=\"color: #0087ff; text-decoration-color: #0087ff\">BatchNormalization</span>)            │                        │               │\n",
              "├─────────────────────────────────┼────────────────────────┼───────────────┤\n",
              "│ bidirectional (<span style=\"color: #0087ff; text-decoration-color: #0087ff\">Bidirectional</span>)   │ (<span style=\"color: #00d7ff; text-decoration-color: #00d7ff\">None</span>, <span style=\"color: #00af00; text-decoration-color: #00af00\">32</span>, <span style=\"color: #00af00; text-decoration-color: #00af00\">256</span>)        │       <span style=\"color: #00af00; text-decoration-color: #00af00\">164,864</span> │\n",
              "├─────────────────────────────────┼────────────────────────┼───────────────┤\n",
              "│ dropout_2 (<span style=\"color: #0087ff; text-decoration-color: #0087ff\">Dropout</span>)             │ (<span style=\"color: #00d7ff; text-decoration-color: #00d7ff\">None</span>, <span style=\"color: #00af00; text-decoration-color: #00af00\">32</span>, <span style=\"color: #00af00; text-decoration-color: #00af00\">256</span>)        │             <span style=\"color: #00af00; text-decoration-color: #00af00\">0</span> │\n",
              "├─────────────────────────────────┼────────────────────────┼───────────────┤\n",
              "│ bidirectional_1 (<span style=\"color: #0087ff; text-decoration-color: #0087ff\">Bidirectional</span>) │ (<span style=\"color: #00d7ff; text-decoration-color: #00d7ff\">None</span>, <span style=\"color: #00af00; text-decoration-color: #00af00\">128</span>)            │       <span style=\"color: #00af00; text-decoration-color: #00af00\">164,352</span> │\n",
              "├─────────────────────────────────┼────────────────────────┼───────────────┤\n",
              "│ dropout_3 (<span style=\"color: #0087ff; text-decoration-color: #0087ff\">Dropout</span>)             │ (<span style=\"color: #00d7ff; text-decoration-color: #00d7ff\">None</span>, <span style=\"color: #00af00; text-decoration-color: #00af00\">128</span>)            │             <span style=\"color: #00af00; text-decoration-color: #00af00\">0</span> │\n",
              "├─────────────────────────────────┼────────────────────────┼───────────────┤\n",
              "│ dense (<span style=\"color: #0087ff; text-decoration-color: #0087ff\">Dense</span>)                   │ (<span style=\"color: #00d7ff; text-decoration-color: #00d7ff\">None</span>, <span style=\"color: #00af00; text-decoration-color: #00af00\">128</span>)            │        <span style=\"color: #00af00; text-decoration-color: #00af00\">16,512</span> │\n",
              "├─────────────────────────────────┼────────────────────────┼───────────────┤\n",
              "│ dropout_4 (<span style=\"color: #0087ff; text-decoration-color: #0087ff\">Dropout</span>)             │ (<span style=\"color: #00d7ff; text-decoration-color: #00d7ff\">None</span>, <span style=\"color: #00af00; text-decoration-color: #00af00\">128</span>)            │             <span style=\"color: #00af00; text-decoration-color: #00af00\">0</span> │\n",
              "├─────────────────────────────────┼────────────────────────┼───────────────┤\n",
              "│ dense_1 (<span style=\"color: #0087ff; text-decoration-color: #0087ff\">Dense</span>)                 │ (<span style=\"color: #00d7ff; text-decoration-color: #00d7ff\">None</span>, <span style=\"color: #00af00; text-decoration-color: #00af00\">8</span>)              │         <span style=\"color: #00af00; text-decoration-color: #00af00\">1,032</span> │\n",
              "└─────────────────────────────────┴────────────────────────┴───────────────┘\n",
              "</pre>\n"
            ]
          },
          "metadata": {}
        },
        {
          "output_type": "display_data",
          "data": {
            "text/plain": [
              "\u001b[1m Total params: \u001b[0m\u001b[38;5;34m433,384\u001b[0m (1.65 MB)\n"
            ],
            "text/html": [
              "<pre style=\"white-space:pre;overflow-x:auto;line-height:normal;font-family:Menlo,'DejaVu Sans Mono',consolas,'Courier New',monospace\"><span style=\"font-weight: bold\"> Total params: </span><span style=\"color: #00af00; text-decoration-color: #00af00\">433,384</span> (1.65 MB)\n",
              "</pre>\n"
            ]
          },
          "metadata": {}
        },
        {
          "output_type": "display_data",
          "data": {
            "text/plain": [
              "\u001b[1m Trainable params: \u001b[0m\u001b[38;5;34m432,936\u001b[0m (1.65 MB)\n"
            ],
            "text/html": [
              "<pre style=\"white-space:pre;overflow-x:auto;line-height:normal;font-family:Menlo,'DejaVu Sans Mono',consolas,'Courier New',monospace\"><span style=\"font-weight: bold\"> Trainable params: </span><span style=\"color: #00af00; text-decoration-color: #00af00\">432,936</span> (1.65 MB)\n",
              "</pre>\n"
            ]
          },
          "metadata": {}
        },
        {
          "output_type": "display_data",
          "data": {
            "text/plain": [
              "\u001b[1m Non-trainable params: \u001b[0m\u001b[38;5;34m448\u001b[0m (1.75 KB)\n"
            ],
            "text/html": [
              "<pre style=\"white-space:pre;overflow-x:auto;line-height:normal;font-family:Menlo,'DejaVu Sans Mono',consolas,'Courier New',monospace\"><span style=\"font-weight: bold\"> Non-trainable params: </span><span style=\"color: #00af00; text-decoration-color: #00af00\">448</span> (1.75 KB)\n",
              "</pre>\n"
            ]
          },
          "metadata": {}
        }
      ],
      "source": [
        "# Model\n",
        "num_classes = y_cat.shape[1]\n",
        "model = Sequential([\n",
        "    Conv1D(128, 5, padding='same', activation='relu', input_shape=(X_train.shape[1], X_train.shape[2])),\n",
        "    BatchNormalization(), MaxPooling1D(2), Dropout(0.3),\n",
        "\n",
        "    Conv1D(64, 5, padding='same', activation='relu'),\n",
        "    BatchNormalization(), MaxPooling1D(2), Dropout(0.3),\n",
        "\n",
        "    Conv1D(32, 3, padding='same', activation='relu'),\n",
        "    BatchNormalization(), #MaxPooling1D(2), Dropout(0.3),\n",
        "\n",
        "    # GlobalAveragePooling1D(),\n",
        "\n",
        "    Bidirectional(LSTM(128, return_sequences=True)), Dropout(0.3),\n",
        "    Bidirectional(LSTM(64)), Dropout(0.3),\n",
        "\n",
        "    Dense(128, activation='relu'), Dropout(0.4),\n",
        "    Dense(num_classes, activation='softmax')\n",
        "])\n",
        "\n",
        "# model.compile(optimizer=Adam(5e-4), loss='categorical_crossentropy', metrics=['accuracy'])\n",
        "\n",
        "model.compile(optimizer=Adam(5e-4),\n",
        "              loss=categorical_focal_loss(gamma=2),  # Correct multi-class focal loss\n",
        "              metrics=['accuracy'])\n",
        "model.summary()"
      ]
    },
    {
      "cell_type": "markdown",
      "id": "d9cd4bd3",
      "metadata": {
        "id": "d9cd4bd3"
      },
      "source": [
        "## Training"
      ]
    },
    {
      "cell_type": "code",
      "source": [
        "# Callbacks\n",
        "early_stop = EarlyStopping(monitor='val_loss', patience=10, restore_best_weights=True)\n",
        "reduce_lr = ReduceLROnPlateau(monitor='val_loss', factor=0.5, patience=5)"
      ],
      "metadata": {
        "id": "w6Eg-Mjk6lgs"
      },
      "id": "w6Eg-Mjk6lgs",
      "execution_count": 18,
      "outputs": []
    },
    {
      "cell_type": "code",
      "execution_count": 19,
      "id": "d7756d6f",
      "metadata": {
        "id": "d7756d6f",
        "colab": {
          "base_uri": "https://localhost:8080/"
        },
        "outputId": "b097aa6f-984b-4b43-f1c4-65cdfb07c190"
      },
      "outputs": [
        {
          "output_type": "stream",
          "name": "stdout",
          "text": [
            "Epoch 1/100\n",
            "\u001b[1m123/123\u001b[0m \u001b[32m━━━━━━━━━━━━━━━━━━━━\u001b[0m\u001b[37m\u001b[0m \u001b[1m14s\u001b[0m 31ms/step - accuracy: 0.2839 - loss: 0.3350 - val_accuracy: 0.5168 - val_loss: 0.2156 - learning_rate: 5.0000e-04\n",
            "Epoch 2/100\n",
            "\u001b[1m123/123\u001b[0m \u001b[32m━━━━━━━━━━━━━━━━━━━━\u001b[0m\u001b[37m\u001b[0m \u001b[1m3s\u001b[0m 25ms/step - accuracy: 0.5782 - loss: 0.1796 - val_accuracy: 0.6901 - val_loss: 0.1208 - learning_rate: 5.0000e-04\n",
            "Epoch 3/100\n",
            "\u001b[1m123/123\u001b[0m \u001b[32m━━━━━━━━━━━━━━━━━━━━\u001b[0m\u001b[37m\u001b[0m \u001b[1m4s\u001b[0m 20ms/step - accuracy: 0.6467 - loss: 0.1391 - val_accuracy: 0.7034 - val_loss: 0.1082 - learning_rate: 5.0000e-04\n",
            "Epoch 4/100\n",
            "\u001b[1m123/123\u001b[0m \u001b[32m━━━━━━━━━━━━━━━━━━━━\u001b[0m\u001b[37m\u001b[0m \u001b[1m2s\u001b[0m 19ms/step - accuracy: 0.6889 - loss: 0.1188 - val_accuracy: 0.7288 - val_loss: 0.0962 - learning_rate: 5.0000e-04\n",
            "Epoch 5/100\n",
            "\u001b[1m123/123\u001b[0m \u001b[32m━━━━━━━━━━━━━━━━━━━━\u001b[0m\u001b[37m\u001b[0m \u001b[1m2s\u001b[0m 20ms/step - accuracy: 0.7527 - loss: 0.0973 - val_accuracy: 0.7166 - val_loss: 0.1132 - learning_rate: 5.0000e-04\n",
            "Epoch 6/100\n",
            "\u001b[1m123/123\u001b[0m \u001b[32m━━━━━━━━━━━━━━━━━━━━\u001b[0m\u001b[37m\u001b[0m \u001b[1m3s\u001b[0m 26ms/step - accuracy: 0.7538 - loss: 0.0869 - val_accuracy: 0.7676 - val_loss: 0.0871 - learning_rate: 5.0000e-04\n",
            "Epoch 7/100\n",
            "\u001b[1m123/123\u001b[0m \u001b[32m━━━━━━━━━━━━━━━━━━━━\u001b[0m\u001b[37m\u001b[0m \u001b[1m4s\u001b[0m 19ms/step - accuracy: 0.7781 - loss: 0.0718 - val_accuracy: 0.7727 - val_loss: 0.0828 - learning_rate: 5.0000e-04\n",
            "Epoch 8/100\n",
            "\u001b[1m123/123\u001b[0m \u001b[32m━━━━━━━━━━━━━━━━━━━━\u001b[0m\u001b[37m\u001b[0m \u001b[1m3s\u001b[0m 19ms/step - accuracy: 0.7897 - loss: 0.0690 - val_accuracy: 0.7513 - val_loss: 0.0895 - learning_rate: 5.0000e-04\n",
            "Epoch 9/100\n",
            "\u001b[1m123/123\u001b[0m \u001b[32m━━━━━━━━━━━━━━━━━━━━\u001b[0m\u001b[37m\u001b[0m \u001b[1m2s\u001b[0m 19ms/step - accuracy: 0.8207 - loss: 0.0596 - val_accuracy: 0.7564 - val_loss: 0.0891 - learning_rate: 5.0000e-04\n",
            "Epoch 10/100\n",
            "\u001b[1m123/123\u001b[0m \u001b[32m━━━━━━━━━━━━━━━━━━━━\u001b[0m\u001b[37m\u001b[0m \u001b[1m4s\u001b[0m 28ms/step - accuracy: 0.8324 - loss: 0.0526 - val_accuracy: 0.7941 - val_loss: 0.0859 - learning_rate: 5.0000e-04\n",
            "Epoch 11/100\n",
            "\u001b[1m123/123\u001b[0m \u001b[32m━━━━━━━━━━━━━━━━━━━━\u001b[0m\u001b[37m\u001b[0m \u001b[1m2s\u001b[0m 19ms/step - accuracy: 0.8341 - loss: 0.0484 - val_accuracy: 0.8451 - val_loss: 0.0564 - learning_rate: 5.0000e-04\n",
            "Epoch 12/100\n",
            "\u001b[1m123/123\u001b[0m \u001b[32m━━━━━━━━━━━━━━━━━━━━\u001b[0m\u001b[37m\u001b[0m \u001b[1m2s\u001b[0m 19ms/step - accuracy: 0.8702 - loss: 0.0371 - val_accuracy: 0.7920 - val_loss: 0.0784 - learning_rate: 5.0000e-04\n",
            "Epoch 13/100\n",
            "\u001b[1m123/123\u001b[0m \u001b[32m━━━━━━━━━━━━━━━━━━━━\u001b[0m\u001b[37m\u001b[0m \u001b[1m2s\u001b[0m 18ms/step - accuracy: 0.8708 - loss: 0.0390 - val_accuracy: 0.8247 - val_loss: 0.0743 - learning_rate: 5.0000e-04\n",
            "Epoch 14/100\n",
            "\u001b[1m123/123\u001b[0m \u001b[32m━━━━━━━━━━━━━━━━━━━━\u001b[0m\u001b[37m\u001b[0m \u001b[1m3s\u001b[0m 19ms/step - accuracy: 0.8687 - loss: 0.0377 - val_accuracy: 0.8807 - val_loss: 0.0431 - learning_rate: 5.0000e-04\n",
            "Epoch 15/100\n",
            "\u001b[1m123/123\u001b[0m \u001b[32m━━━━━━━━━━━━━━━━━━━━\u001b[0m\u001b[37m\u001b[0m \u001b[1m3s\u001b[0m 27ms/step - accuracy: 0.8760 - loss: 0.0366 - val_accuracy: 0.8308 - val_loss: 0.0643 - learning_rate: 5.0000e-04\n",
            "Epoch 16/100\n",
            "\u001b[1m123/123\u001b[0m \u001b[32m━━━━━━━━━━━━━━━━━━━━\u001b[0m\u001b[37m\u001b[0m \u001b[1m2s\u001b[0m 19ms/step - accuracy: 0.8973 - loss: 0.0334 - val_accuracy: 0.8502 - val_loss: 0.0503 - learning_rate: 5.0000e-04\n",
            "Epoch 17/100\n",
            "\u001b[1m123/123\u001b[0m \u001b[32m━━━━━━━━━━━━━━━━━━━━\u001b[0m\u001b[37m\u001b[0m \u001b[1m3s\u001b[0m 20ms/step - accuracy: 0.9035 - loss: 0.0258 - val_accuracy: 0.8807 - val_loss: 0.0522 - learning_rate: 5.0000e-04\n",
            "Epoch 18/100\n",
            "\u001b[1m123/123\u001b[0m \u001b[32m━━━━━━━━━━━━━━━━━━━━\u001b[0m\u001b[37m\u001b[0m \u001b[1m2s\u001b[0m 18ms/step - accuracy: 0.9174 - loss: 0.0242 - val_accuracy: 0.8818 - val_loss: 0.0505 - learning_rate: 5.0000e-04\n",
            "Epoch 19/100\n",
            "\u001b[1m123/123\u001b[0m \u001b[32m━━━━━━━━━━━━━━━━━━━━\u001b[0m\u001b[37m\u001b[0m \u001b[1m2s\u001b[0m 19ms/step - accuracy: 0.9094 - loss: 0.0269 - val_accuracy: 0.9052 - val_loss: 0.0348 - learning_rate: 5.0000e-04\n",
            "Epoch 20/100\n",
            "\u001b[1m123/123\u001b[0m \u001b[32m━━━━━━━━━━━━━━━━━━━━\u001b[0m\u001b[37m\u001b[0m \u001b[1m4s\u001b[0m 28ms/step - accuracy: 0.9094 - loss: 0.0277 - val_accuracy: 0.8970 - val_loss: 0.0528 - learning_rate: 5.0000e-04\n",
            "Epoch 21/100\n",
            "\u001b[1m123/123\u001b[0m \u001b[32m━━━━━━━━━━━━━━━━━━━━\u001b[0m\u001b[37m\u001b[0m \u001b[1m4s\u001b[0m 19ms/step - accuracy: 0.9323 - loss: 0.0201 - val_accuracy: 0.9062 - val_loss: 0.0434 - learning_rate: 5.0000e-04\n",
            "Epoch 22/100\n",
            "\u001b[1m123/123\u001b[0m \u001b[32m━━━━━━━━━━━━━━━━━━━━\u001b[0m\u001b[37m\u001b[0m \u001b[1m3s\u001b[0m 20ms/step - accuracy: 0.9435 - loss: 0.0188 - val_accuracy: 0.9256 - val_loss: 0.0356 - learning_rate: 5.0000e-04\n",
            "Epoch 23/100\n",
            "\u001b[1m123/123\u001b[0m \u001b[32m━━━━━━━━━━━━━━━━━━━━\u001b[0m\u001b[37m\u001b[0m \u001b[1m2s\u001b[0m 19ms/step - accuracy: 0.9410 - loss: 0.0160 - val_accuracy: 0.9062 - val_loss: 0.0361 - learning_rate: 5.0000e-04\n",
            "Epoch 24/100\n",
            "\u001b[1m123/123\u001b[0m \u001b[32m━━━━━━━━━━━━━━━━━━━━\u001b[0m\u001b[37m\u001b[0m \u001b[1m4s\u001b[0m 27ms/step - accuracy: 0.9415 - loss: 0.0192 - val_accuracy: 0.8869 - val_loss: 0.0502 - learning_rate: 5.0000e-04\n",
            "Epoch 25/100\n",
            "\u001b[1m123/123\u001b[0m \u001b[32m━━━━━━━━━━━━━━━━━━━━\u001b[0m\u001b[37m\u001b[0m \u001b[1m4s\u001b[0m 19ms/step - accuracy: 0.9571 - loss: 0.0115 - val_accuracy: 0.9266 - val_loss: 0.0457 - learning_rate: 2.5000e-04\n",
            "Epoch 26/100\n",
            "\u001b[1m123/123\u001b[0m \u001b[32m━━━━━━━━━━━━━━━━━━━━\u001b[0m\u001b[37m\u001b[0m \u001b[1m2s\u001b[0m 19ms/step - accuracy: 0.9644 - loss: 0.0108 - val_accuracy: 0.9348 - val_loss: 0.0355 - learning_rate: 2.5000e-04\n",
            "Epoch 27/100\n",
            "\u001b[1m123/123\u001b[0m \u001b[32m━━━━━━━━━━━━━━━━━━━━\u001b[0m\u001b[37m\u001b[0m \u001b[1m2s\u001b[0m 19ms/step - accuracy: 0.9719 - loss: 0.0074 - val_accuracy: 0.9368 - val_loss: 0.0408 - learning_rate: 2.5000e-04\n",
            "Epoch 28/100\n",
            "\u001b[1m123/123\u001b[0m \u001b[32m━━━━━━━━━━━━━━━━━━━━\u001b[0m\u001b[37m\u001b[0m \u001b[1m3s\u001b[0m 23ms/step - accuracy: 0.9681 - loss: 0.0082 - val_accuracy: 0.9266 - val_loss: 0.0403 - learning_rate: 2.5000e-04\n",
            "Epoch 29/100\n",
            "\u001b[1m123/123\u001b[0m \u001b[32m━━━━━━━━━━━━━━━━━━━━\u001b[0m\u001b[37m\u001b[0m \u001b[1m5s\u001b[0m 20ms/step - accuracy: 0.9718 - loss: 0.0073 - val_accuracy: 0.9368 - val_loss: 0.0360 - learning_rate: 2.5000e-04\n"
          ]
        }
      ],
      "source": [
        "# history = model.fit(\n",
        "#     X_train, y_train,\n",
        "#     epochs=100,\n",
        "#     batch_size=32,\n",
        "#     validation_data=(X_test, y_test),\n",
        "#     callbacks=[early_stop, reduce_lr],\n",
        "#     class_weight=class_weight_dict,\n",
        "#     verbose=1\n",
        "# )\n",
        "history = model.fit(\n",
        "    X_train, y_train,\n",
        "    epochs=100,\n",
        "    batch_size=32,\n",
        "    validation_data=(X_test, y_test),\n",
        "    callbacks=[early_stop, reduce_lr],\n",
        "    verbose=1\n",
        ")\n"
      ]
    },
    {
      "cell_type": "markdown",
      "id": "554d5551",
      "metadata": {
        "id": "554d5551"
      },
      "source": [
        "## Eval"
      ]
    },
    {
      "cell_type": "code",
      "source": [
        "# Evaluate\n",
        "test_loss, test_acc = model.evaluate(X_test, y_test)\n",
        "print(f\"Test Accuracy: {test_acc*100:.2f}%\")\n",
        "\n",
        "# Predict\n",
        "y_pred = model.predict(X_test)\n",
        "y_pred_classes = np.argmax(y_pred, axis=1)\n",
        "y_true = np.argmax(y_test, axis=1)\n",
        "\n",
        "# Classification Report\n",
        "print(\"Classification Report:\")\n",
        "print(classification_report(y_true, y_pred_classes, target_names=label_encoder.classes_))\n",
        "\n",
        "# Confusion Matrix\n",
        "print(\"Confusion Matrix:\")\n",
        "print(confusion_matrix(y_true, y_pred_classes))\n"
      ],
      "metadata": {
        "id": "bQ6zROSaYj3q",
        "colab": {
          "base_uri": "https://localhost:8080/"
        },
        "outputId": "78a8ff39-d0d1-4b83-b7e1-96fe516f7531"
      },
      "id": "bQ6zROSaYj3q",
      "execution_count": 20,
      "outputs": [
        {
          "output_type": "stream",
          "name": "stdout",
          "text": [
            "\u001b[1m31/31\u001b[0m \u001b[32m━━━━━━━━━━━━━━━━━━━━\u001b[0m\u001b[37m\u001b[0m \u001b[1m0s\u001b[0m 9ms/step - accuracy: 0.9121 - loss: 0.0304\n",
            "Test Accuracy: 90.52%\n",
            "\u001b[1m31/31\u001b[0m \u001b[32m━━━━━━━━━━━━━━━━━━━━\u001b[0m\u001b[37m\u001b[0m \u001b[1m1s\u001b[0m 20ms/step\n",
            "Classification Report:\n",
            "              precision    recall  f1-score   support\n",
            "\n",
            "       angry       0.96      0.91      0.94       150\n",
            "        calm       0.86      0.89      0.88       151\n",
            "     disgust       0.90      0.94      0.92        77\n",
            "     fearful       0.89      0.96      0.93       150\n",
            "       happy       0.95      0.86      0.90       150\n",
            "     neutral       0.94      0.89      0.92        75\n",
            "         sad       0.86      0.88      0.87       151\n",
            "   surprised       0.91      0.92      0.92        77\n",
            "\n",
            "    accuracy                           0.91       981\n",
            "   macro avg       0.91      0.91      0.91       981\n",
            "weighted avg       0.91      0.91      0.91       981\n",
            "\n",
            "Confusion Matrix:\n",
            "[[137   0   5   0   5   0   0   3]\n",
            " [  0 135   2   0   0   2  12   0]\n",
            " [  1   2  72   2   0   0   0   0]\n",
            " [  3   0   0 144   0   0   3   0]\n",
            " [  0   9   0   3 129   2   3   4]\n",
            " [  0   6   0   0   0  67   2   0]\n",
            " [  0   5   1  12   0   0 133   0]\n",
            " [  2   0   0   0   2   0   2  71]]\n"
          ]
        }
      ]
    },
    {
      "cell_type": "code",
      "execution_count": 21,
      "id": "f78d90d7",
      "metadata": {
        "id": "f78d90d7",
        "colab": {
          "base_uri": "https://localhost:8080/"
        },
        "outputId": "284f360b-d135-46b0-fa15-5cbc1d116404"
      },
      "outputs": [
        {
          "output_type": "stream",
          "name": "stdout",
          "text": [
            "\u001b[1m31/31\u001b[0m \u001b[32m━━━━━━━━━━━━━━━━━━━━\u001b[0m\u001b[37m\u001b[0m \u001b[1m0s\u001b[0m 12ms/step - accuracy: 0.9121 - loss: 0.0304\n",
            "Test Accuracy: 90.52%\n"
          ]
        }
      ],
      "source": [
        "test_loss, test_acc = model.evaluate(X_test, y_test)\n",
        "print(f\"Test Accuracy: {test_acc*100:.2f}%\")\n"
      ]
    },
    {
      "cell_type": "code",
      "source": [
        "# Cell 9: Model Evaluation and Metrics\n",
        "\n",
        "from sklearn.metrics import accuracy_score, f1_score, classification_report, confusion_matrix\n",
        "import seaborn as sns\n",
        "import matplotlib.pyplot as plt\n",
        "\n",
        "def evaluate_model(model, X_test, y_test, label_encoder):\n",
        "    \"\"\"\n",
        "    Evaluate the trained model and generate comprehensive metrics\n",
        "    \"\"\"\n",
        "    print(\"Evaluating model performance...\")\n",
        "\n",
        "    # Predictions\n",
        "    y_pred_probs = model.predict(X_test)\n",
        "    y_pred_classes = np.argmax(y_pred_probs, axis=1)\n",
        "    y_true_classes = np.argmax(y_test, axis=1)\n",
        "\n",
        "    # Overall Accuracy\n",
        "    accuracy = accuracy_score(y_true_classes, y_pred_classes)\n",
        "    print(f\"✅ Overall Test Accuracy: {accuracy:.4f} ({accuracy*100:.2f}%)\")\n",
        "\n",
        "    # F1 Scores\n",
        "    f1_weighted = f1_score(y_true_classes, y_pred_classes, average='weighted')\n",
        "    f1_macro = f1_score(y_true_classes, y_pred_classes, average='macro')\n",
        "\n",
        "    print(f\"✅ Weighted F1 Score: {f1_weighted:.4f} ({f1_weighted*100:.2f}%)\")\n",
        "    print(f\"✅ Macro F1 Score: {f1_macro:.4f} ({f1_macro*100:.2f}%)\")\n",
        "\n",
        "    # Detailed Classification Report\n",
        "    emotion_names = label_encoder.classes_\n",
        "    class_report = classification_report(\n",
        "        y_true_classes, y_pred_classes,\n",
        "        target_names=emotion_names,\n",
        "        output_dict=True\n",
        "    )\n",
        "\n",
        "    print(\"\\n📋 Detailed Classification Report:\")\n",
        "    print(classification_report(y_true_classes, y_pred_classes, target_names=emotion_names))\n",
        "\n",
        "    # Evaluation Criteria Check\n",
        "    print(\"\\n\" + \"=\"*50)\n",
        "    print(\"🎯 EVALUATION CRITERIA CHECK:\")\n",
        "    print(\"=\"*50)\n",
        "\n",
        "    meets_f1_requirement = f1_weighted >= 0.80\n",
        "    meets_accuracy_requirement = accuracy >= 0.80\n",
        "\n",
        "    print(f\"✔️ Weighted F1 Score > 80%: {'PASS ✅' if meets_f1_requirement else 'FAIL ❌'} ({f1_weighted*100:.2f}%)\")\n",
        "    print(f\"✔️ Overall Accuracy > 80%: {'PASS ✅' if meets_accuracy_requirement else 'FAIL ❌'} ({accuracy*100:.2f}%)\")\n",
        "\n",
        "    # Individual Class Accuracies\n",
        "    class_accuracies_pass = True\n",
        "    print(\"\\n🔍 Individual Class Recalls:\")\n",
        "    for i, emotion in enumerate(emotion_names):\n",
        "        class_recall = class_report[emotion]['recall']\n",
        "        passes = class_recall >= 0.75\n",
        "        if not passes:\n",
        "            class_accuracies_pass = False\n",
        "        print(f\"  {emotion}: {class_recall*100:.2f}% {'PASS ✅' if passes else 'FAIL ❌'}\")\n",
        "\n",
        "    print(f\"\\n✔️ All Class Recalls > 75%: {'PASS ✅' if class_accuracies_pass else 'FAIL ❌'}\")\n",
        "\n",
        "    overall_pass = meets_f1_requirement and meets_accuracy_requirement and class_accuracies_pass\n",
        "    print(f\"\\n🏆 OVERALL EVALUATION: {'PASS ✅' if overall_pass else 'FAIL ❌'}\")\n",
        "\n",
        "    return y_pred_classes, y_true_classes, class_report\n",
        "\n",
        "print(\"✅ Evaluation function defined!\")\n"
      ],
      "metadata": {
        "id": "vBo7iouEa118",
        "colab": {
          "base_uri": "https://localhost:8080/"
        },
        "outputId": "ecd4ebac-cf85-4c5c-a958-7027a2d13fab"
      },
      "id": "vBo7iouEa118",
      "execution_count": 22,
      "outputs": [
        {
          "output_type": "stream",
          "name": "stdout",
          "text": [
            "✅ Evaluation function defined!\n"
          ]
        }
      ]
    },
    {
      "cell_type": "code",
      "source": [
        "# # Cell 10: Confusion Matrix Plot\n",
        "\n",
        "# def plot_confusion_matrix(y_true, y_pred, label_encoder):\n",
        "#     \"\"\"\n",
        "#     Plot and display the confusion matrix\n",
        "#     \"\"\"\n",
        "#     cm = confusion_matrix(y_true, y_pred)\n",
        "\n",
        "#     plt.figure(figsize=(10, 8))\n",
        "#     sns.heatmap(cm, annot=True, fmt='d', cmap='Blues',\n",
        "#                 xticklabels=label_encoder.classes_,\n",
        "#                 yticklabels=label_encoder.classes_)\n",
        "#     plt.title('Confusion Matrix - Speech & Song Emotion Recognition')\n",
        "#     plt.xlabel('Predicted Label')\n",
        "#     plt.ylabel('True Label')\n",
        "#     plt.xticks(rotation=45)\n",
        "#     plt.yticks(rotation=0)\n",
        "#     plt.tight_layout()\n",
        "#     plt.show()\n",
        "\n",
        "# print(\"✅ Confusion matrix plotting function defined!\")\n"
      ],
      "metadata": {
        "id": "HAU9rbbSa5eN"
      },
      "id": "HAU9rbbSa5eN",
      "execution_count": null,
      "outputs": []
    },
    {
      "cell_type": "code",
      "source": [
        "y_pred_classes, y_true_classes, class_report = evaluate_model(model, X_test, y_test, label_encoder)\n",
        "# plot_confusion_matrix(y_true_classes, y_pred_classes, label_encoder)\n"
      ],
      "metadata": {
        "id": "E6qmKs-qa6gX",
        "colab": {
          "base_uri": "https://localhost:8080/"
        },
        "outputId": "cfab4930-6038-45f0-ef27-25fd9904dd5a"
      },
      "id": "E6qmKs-qa6gX",
      "execution_count": 23,
      "outputs": [
        {
          "output_type": "stream",
          "name": "stdout",
          "text": [
            "Evaluating model performance...\n",
            "\u001b[1m31/31\u001b[0m \u001b[32m━━━━━━━━━━━━━━━━━━━━\u001b[0m\u001b[37m\u001b[0m \u001b[1m0s\u001b[0m 7ms/step\n",
            "✅ Overall Test Accuracy: 0.9052 (90.52%)\n",
            "✅ Weighted F1 Score: 0.9053 (90.53%)\n",
            "✅ Macro F1 Score: 0.9075 (90.75%)\n",
            "\n",
            "📋 Detailed Classification Report:\n",
            "              precision    recall  f1-score   support\n",
            "\n",
            "       angry       0.96      0.91      0.94       150\n",
            "        calm       0.86      0.89      0.88       151\n",
            "     disgust       0.90      0.94      0.92        77\n",
            "     fearful       0.89      0.96      0.93       150\n",
            "       happy       0.95      0.86      0.90       150\n",
            "     neutral       0.94      0.89      0.92        75\n",
            "         sad       0.86      0.88      0.87       151\n",
            "   surprised       0.91      0.92      0.92        77\n",
            "\n",
            "    accuracy                           0.91       981\n",
            "   macro avg       0.91      0.91      0.91       981\n",
            "weighted avg       0.91      0.91      0.91       981\n",
            "\n",
            "\n",
            "==================================================\n",
            "🎯 EVALUATION CRITERIA CHECK:\n",
            "==================================================\n",
            "✔️ Weighted F1 Score > 80%: PASS ✅ (90.53%)\n",
            "✔️ Overall Accuracy > 80%: PASS ✅ (90.52%)\n",
            "\n",
            "🔍 Individual Class Recalls:\n",
            "  angry: 91.33% PASS ✅\n",
            "  calm: 89.40% PASS ✅\n",
            "  disgust: 93.51% PASS ✅\n",
            "  fearful: 96.00% PASS ✅\n",
            "  happy: 86.00% PASS ✅\n",
            "  neutral: 89.33% PASS ✅\n",
            "  sad: 88.08% PASS ✅\n",
            "  surprised: 92.21% PASS ✅\n",
            "\n",
            "✔️ All Class Recalls > 75%: PASS ✅\n",
            "\n",
            "🏆 OVERALL EVALUATION: PASS ✅\n"
          ]
        }
      ]
    },
    {
      "cell_type": "code",
      "source": [
        "# Cell 11: Plot Training & Validation Accuracy and Loss\n",
        "\n",
        "def plot_training_history(history):\n",
        "    \"\"\"\n",
        "    Plot training and validation accuracy & loss curves.\n",
        "    \"\"\"\n",
        "    acc = history.history['accuracy']\n",
        "    val_acc = history.history['val_accuracy']\n",
        "    loss = history.history['loss']\n",
        "    val_loss = history.history['val_loss']\n",
        "    epochs = range(1, len(acc) + 1)\n",
        "\n",
        "    plt.figure(figsize=(14, 5))\n",
        "\n",
        "    # Plot Accuracy\n",
        "    plt.subplot(1, 2, 1)\n",
        "    plt.plot(epochs, acc, 'b-', label='Training Accuracy')\n",
        "    plt.plot(epochs, val_acc, 'orange', label='Validation Accuracy')\n",
        "    plt.title('Model Accuracy')\n",
        "    plt.xlabel('Epoch')\n",
        "    plt.ylabel('Accuracy')\n",
        "    plt.legend()\n",
        "\n",
        "    # Plot Loss\n",
        "    plt.subplot(1, 2, 2)\n",
        "    plt.plot(epochs, loss, 'b-', label='Training Loss')\n",
        "    plt.plot(epochs, val_loss, 'orange', label='Validation Loss')\n",
        "    plt.title('Model Loss')\n",
        "    plt.xlabel('Epoch')\n",
        "    plt.ylabel('Loss')\n",
        "    plt.legend()\n",
        "\n",
        "    plt.tight_layout()\n",
        "    plt.show()\n",
        "\n",
        "print(\"✅ Training history plotting function defined!\")\n"
      ],
      "metadata": {
        "id": "Wydyvst1J1Of",
        "colab": {
          "base_uri": "https://localhost:8080/"
        },
        "outputId": "b46990b3-9b41-4784-db7f-02342fdbb6d5"
      },
      "id": "Wydyvst1J1Of",
      "execution_count": 24,
      "outputs": [
        {
          "output_type": "stream",
          "name": "stdout",
          "text": [
            "✅ Training history plotting function defined!\n"
          ]
        }
      ]
    },
    {
      "cell_type": "code",
      "source": [
        "plot_training_history(history)\n"
      ],
      "metadata": {
        "id": "6Ig_9XUFbWgL",
        "colab": {
          "base_uri": "https://localhost:8080/",
          "height": 507
        },
        "outputId": "d7ece0d5-c7ed-4b6f-902e-007824a69a3a"
      },
      "id": "6Ig_9XUFbWgL",
      "execution_count": 25,
      "outputs": [
        {
          "output_type": "display_data",
          "data": {
            "text/plain": [
              "<Figure size 1400x500 with 2 Axes>"
            ],
            "image/png": "[encoded data removed]"
          },
          "metadata": {}
        }
      ]
    },
    {
      "cell_type": "code",
      "execution_count": null,
      "id": "9893c106",
      "metadata": {
        "id": "9893c106"
      },
      "outputs": [],
      "source": [
        "# # Cell 12\n",
        "# # Confusion Matrix and Classification Report\n",
        "\n",
        "# y_pred = model.predict(X_test)\n",
        "# y_pred_classes = np.argmax(y_pred, axis=1)\n",
        "# y_true = np.argmax(y_test, axis=1)\n",
        "\n",
        "# print(\"Classification Report:\\n\", classification_report(y_true, y_pred_classes, target_names=le.classes_))\n",
        "\n",
        "# cm = confusion_matrix(y_true, y_pred_classes)\n",
        "# plt.figure(figsize=(8,6))\n",
        "# sns.heatmap(cm, annot=True, fmt='d', cmap='Blues', xticklabels=le.classes_, yticklabels=le.classes_)\n",
        "# plt.title('Confusion Matrix')\n",
        "# plt.ylabel('True Label')\n",
        "# plt.xlabel('Predicted Label')\n",
        "# plt.show()\n"
      ]
    },
    {
      "cell_type": "markdown",
      "id": "46a497a1",
      "metadata": {
        "id": "46a497a1"
      },
      "source": [
        "## Save model"
      ]
    },
    {
      "cell_type": "code",
      "execution_count": null,
      "id": "d060576b",
      "metadata": {
        "id": "d060576b"
      },
      "outputs": [],
      "source": [
        "# # Cell 13\n",
        "# # Save Model and Scaler\n",
        "\n",
        "# model.save('emotion_model.h5')\n",
        "# import pickle\n",
        "# with open('scaler.pkl', 'wb') as f:\n",
        "#     pickle.dump(scaler, f)\n",
        "# with open('label_encoder.pkl', 'wb') as f:\n",
        "#     pickle.dump(le, f)\n"
      ]
    },
    {
      "cell_type": "markdown",
      "id": "75fdb82e",
      "metadata": {
        "id": "75fdb82e"
      },
      "source": [
        "## Streamlit"
      ]
    },
    {
      "cell_type": "code",
      "execution_count": null,
      "id": "22511b14",
      "metadata": {
        "id": "22511b14"
      },
      "outputs": [],
      "source": [
        "# # Cell 14\n",
        "# # Test Function (For Streamlit Web App and Testing Script)\n",
        "\n",
        "# def predict_emotion(file_path):\n",
        "#     y, sr = librosa.load(file_path, duration=3, offset=0.5)\n",
        "#     mfcc = librosa.feature.mfcc(y=y, sr=sr, n_mfcc=40)\n",
        "#     mfcc_scaled = np.mean(mfcc.T, axis=0)\n",
        "#     mfcc_scaled = scaler.transform([mfcc_scaled])\n",
        "#     mfcc_scaled = mfcc_scaled[..., np.newaxis]\n",
        "#     prediction = model.predict(mfcc_scaled)\n",
        "#     predicted_emotion = le.inverse_transform([np.argmax(prediction)])\n",
        "#     return predicted_emotion[0]\n",
        "# # Example usage"
      ]
    }
  ],
  "metadata": {
    "kernelspec": {
      "display_name": "Python 3",
      "name": "python3"
    },
    "language_info": {
      "codemirror_mode": {
        "name": "ipython",
        "version": 3
      },
      "file_extension": ".py",
      "mimetype": "text/x-python",
      "name": "python",
      "nbconvert_exporter": "python",
      "pygments_lexer": "ipython3",
      "version": "3.11.4"
    },
    "colab": {
      "provenance": [],
      "gpuType": "T4"
    },
    "accelerator": "GPU"
  },
  "nbformat": 4,
  "nbformat_minor": 5
}