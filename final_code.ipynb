{
  "cells": [
    {
      "cell_type": "markdown",
      "id": "3b012a8e",
      "metadata": {
        "id": "3b012a8e"
      },
      "source": [
        "## Libraries"
      ]
    },
    {
      "cell_type": "code",
      "execution_count": null,
      "id": "lSrpIotZGtcY",
      "metadata": {
        "colab": {
          "base_uri": "https://localhost:8080/"
        },
        "id": "lSrpIotZGtcY",
        "outputId": "ab0f54e9-d86a-4dd7-dac5-31143deb7504"
      },
      "outputs": [
        {
          "name": "stdout",
          "output_type": "stream",
          "text": [
            "Requirement already satisfied: numpy in /usr/local/lib/python3.11/dist-packages (2.0.2)\n",
            "Requirement already satisfied: pandas in /usr/local/lib/python3.11/dist-packages (2.2.2)\n",
            "Requirement already satisfied: librosa in /usr/local/lib/python3.11/dist-packages (0.11.0)\n",
            "Requirement already satisfied: matplotlib in /usr/local/lib/python3.11/dist-packages (3.10.0)\n",
            "Requirement already satisfied: seaborn in /usr/local/lib/python3.11/dist-packages (0.13.2)\n",
            "Requirement already satisfied: scikit-learn in /usr/local/lib/python3.11/dist-packages (1.6.1)\n",
            "Requirement already satisfied: keras in /usr/local/lib/python3.11/dist-packages (3.8.0)\n",
            "Requirement already satisfied: resampy in /usr/local/lib/python3.11/dist-packages (0.4.3)\n",
            "Requirement already satisfied: python-dateutil>=2.8.2 in /usr/local/lib/python3.11/dist-packages (from pandas) (2.9.0.post0)\n",
            "Requirement already satisfied: pytz>=2020.1 in /usr/local/lib/python3.11/dist-packages (from pandas) (2025.2)\n",
            "Requirement already satisfied: tzdata>=2022.7 in /usr/local/lib/python3.11/dist-packages (from pandas) (2025.2)\n",
            "Requirement already satisfied: audioread>=2.1.9 in /usr/local/lib/python3.11/dist-packages (from librosa) (3.0.1)\n",
            "Requirement already satisfied: numba>=0.51.0 in /usr/local/lib/python3.11/dist-packages (from librosa) (0.60.0)\n",
            "Requirement already satisfied: scipy>=1.6.0 in /usr/local/lib/python3.11/dist-packages (from librosa) (1.15.3)\n",
            "Requirement already satisfied: joblib>=1.0 in /usr/local/lib/python3.11/dist-packages (from librosa) (1.5.1)\n",
            "Requirement already satisfied: decorator>=4.3.0 in /usr/local/lib/python3.11/dist-packages (from librosa) (4.4.2)\n",
            "Requirement already satisfied: soundfile>=0.12.1 in /usr/local/lib/python3.11/dist-packages (from librosa) (0.13.1)\n",
            "Requirement already satisfied: pooch>=1.1 in /usr/local/lib/python3.11/dist-packages (from librosa) (1.8.2)\n",
            "Requirement already satisfied: soxr>=0.3.2 in /usr/local/lib/python3.11/dist-packages (from librosa) (0.5.0.post1)\n",
            "Requirement already satisfied: typing_extensions>=4.1.1 in /usr/local/lib/python3.11/dist-packages (from librosa) (4.14.0)\n",
            "Requirement already satisfied: lazy_loader>=0.1 in /usr/local/lib/python3.11/dist-packages (from librosa) (0.4)\n",
            "Requirement already satisfied: msgpack>=1.0 in /usr/local/lib/python3.11/dist-packages (from librosa) (1.1.1)\n",
            "Requirement already satisfied: contourpy>=1.0.1 in /usr/local/lib/python3.11/dist-packages (from matplotlib) (1.3.2)\n",
            "Requirement already satisfied: cycler>=0.10 in /usr/local/lib/python3.11/dist-packages (from matplotlib) (0.12.1)\n",
            "Requirement already satisfied: fonttools>=4.22.0 in /usr/local/lib/python3.11/dist-packages (from matplotlib) (4.58.4)\n",
            "Requirement already satisfied: kiwisolver>=1.3.1 in /usr/local/lib/python3.11/dist-packages (from matplotlib) (1.4.8)\n",
            "Requirement already satisfied: packaging>=20.0 in /usr/local/lib/python3.11/dist-packages (from matplotlib) (24.2)\n",
            "Requirement already satisfied: pillow>=8 in /usr/local/lib/python3.11/dist-packages (from matplotlib) (11.2.1)\n",
            "Requirement already satisfied: pyparsing>=2.3.1 in /usr/local/lib/python3.11/dist-packages (from matplotlib) (3.2.3)\n",
            "Requirement already satisfied: threadpoolctl>=3.1.0 in /usr/local/lib/python3.11/dist-packages (from scikit-learn) (3.6.0)\n",
            "Requirement already satisfied: absl-py in /usr/local/lib/python3.11/dist-packages (from keras) (1.4.0)\n",
            "Requirement already satisfied: rich in /usr/local/lib/python3.11/dist-packages (from keras) (13.9.4)\n",
            "Requirement already satisfied: namex in /usr/local/lib/python3.11/dist-packages (from keras) (0.1.0)\n",
            "Requirement already satisfied: h5py in /usr/local/lib/python3.11/dist-packages (from keras) (3.14.0)\n",
            "Requirement already satisfied: optree in /usr/local/lib/python3.11/dist-packages (from keras) (0.16.0)\n",
            "Requirement already satisfied: ml-dtypes in /usr/local/lib/python3.11/dist-packages (from keras) (0.4.1)\n",
            "Requirement already satisfied: llvmlite<0.44,>=0.43.0dev0 in /usr/local/lib/python3.11/dist-packages (from numba>=0.51.0->librosa) (0.43.0)\n",
            "Requirement already satisfied: platformdirs>=2.5.0 in /usr/local/lib/python3.11/dist-packages (from pooch>=1.1->librosa) (4.3.8)\n",
            "Requirement already satisfied: requests>=2.19.0 in /usr/local/lib/python3.11/dist-packages (from pooch>=1.1->librosa) (2.32.3)\n",
            "Requirement already satisfied: six>=1.5 in /usr/local/lib/python3.11/dist-packages (from python-dateutil>=2.8.2->pandas) (1.17.0)\n",
            "Requirement already satisfied: cffi>=1.0 in /usr/local/lib/python3.11/dist-packages (from soundfile>=0.12.1->librosa) (1.17.1)\n",
            "Requirement already satisfied: markdown-it-py>=2.2.0 in /usr/local/lib/python3.11/dist-packages (from rich->keras) (3.0.0)\n",
            "Requirement already satisfied: pygments<3.0.0,>=2.13.0 in /usr/local/lib/python3.11/dist-packages (from rich->keras) (2.19.1)\n",
            "Requirement already satisfied: pycparser in /usr/local/lib/python3.11/dist-packages (from cffi>=1.0->soundfile>=0.12.1->librosa) (2.22)\n",
            "Requirement already satisfied: mdurl~=0.1 in /usr/local/lib/python3.11/dist-packages (from markdown-it-py>=2.2.0->rich->keras) (0.1.2)\n",
            "Requirement already satisfied: charset-normalizer<4,>=2 in /usr/local/lib/python3.11/dist-packages (from requests>=2.19.0->pooch>=1.1->librosa) (3.4.2)\n",
            "Requirement already satisfied: idna<4,>=2.5 in /usr/local/lib/python3.11/dist-packages (from requests>=2.19.0->pooch>=1.1->librosa) (3.10)\n",
            "Requirement already satisfied: urllib3<3,>=1.21.1 in /usr/local/lib/python3.11/dist-packages (from requests>=2.19.0->pooch>=1.1->librosa) (2.4.0)\n",
            "Requirement already satisfied: certifi>=2017.4.17 in /usr/local/lib/python3.11/dist-packages (from requests>=2.19.0->pooch>=1.1->librosa) (2025.6.15)\n"
          ]
        }
      ],
      "source": [
        "!pip install numpy pandas librosa matplotlib seaborn scikit-learn keras resampy\n"
      ]
    },
    {
      "cell_type": "code",
      "execution_count": null,
      "id": "3be8f281",
      "metadata": {
        "id": "3be8f281"
      },
      "outputs": [],
      "source": [
        "import os\n",
        "import numpy as np\n",
        "import pandas as pd\n",
        "import librosa\n",
        "from sklearn.preprocessing import LabelEncoder, StandardScaler\n",
        "from sklearn.model_selection import train_test_split\n",
        "from sklearn.utils.class_weight import compute_class_weight\n",
        "from sklearn.metrics import classification_report, confusion_matrix, f1_score\n",
        "from tensorflow.keras.utils import to_categorical\n",
        "from tensorflow.keras.models import Sequential\n",
        "from tensorflow.keras.layers import (Conv1D, MaxPooling1D, BatchNormalization, Dropout,\n",
        "                                     Flatten, Dense, LSTM, Bidirectional, GlobalAveragePooling1D)\n",
        "from tensorflow.keras.optimizers import Adam\n",
        "from tensorflow.keras.callbacks import EarlyStopping, ReduceLROnPlateau\n",
        "from sklearn.metrics import accuracy_score, f1_score, classification_report, confusion_matrix\n",
        "import seaborn as sns\n",
        "import matplotlib.pyplot as plt\n",
        "import tensorflow.keras.backend as K\n",
        "import tensorflow as tf\n",
        "\n",
        "\n",
        "# from keras_focal_loss import categorical_focal_loss?"
      ]
    },
    {
      "cell_type": "code",
      "execution_count": null,
      "id": "TAAQaleOH7TB",
      "metadata": {
        "colab": {
          "base_uri": "https://localhost:8080/"
        },
        "id": "TAAQaleOH7TB",
        "outputId": "8299a4e6-664e-4982-99ab-7d84ce10181c"
      },
      "outputs": [
        {
          "name": "stdout",
          "output_type": "stream",
          "text": [
            "Mounted at /content/drive\n"
          ]
        }
      ],
      "source": [
        "from google.colab import drive\n",
        "drive.mount('/content/drive')\n"
      ]
    },
    {
      "cell_type": "markdown",
      "id": "75afbd66",
      "metadata": {
        "id": "75afbd66"
      },
      "source": [
        "## Import"
      ]
    },
    {
      "cell_type": "code",
      "execution_count": null,
      "id": "pLXwqWrsIinC",
      "metadata": {
        "id": "pLXwqWrsIinC"
      },
      "outputs": [],
      "source": [
        "speech_path = '/content/drive/MyDrive/mars/Audio_Speech_Actors_01-24'\n",
        "song_path = '/content/drive/MyDrive/mars/Audio_Song_Actors_01-24'\n"
      ]
    },
    {
      "cell_type": "markdown",
      "id": "4jnKlmLF-ZJC",
      "metadata": {
        "id": "4jnKlmLF-ZJC"
      },
      "source": [
        "## Focal Loss"
      ]
    },
    {
      "cell_type": "code",
      "execution_count": null,
      "id": "keckjkne-bB8",
      "metadata": {
        "id": "keckjkne-bB8"
      },
      "outputs": [],
      "source": [
        "def categorical_focal_loss(gamma=2., alpha=.25):\n",
        "    def focal_loss(y_true, y_pred):\n",
        "        epsilon = K.epsilon()\n",
        "        y_pred = K.clip(y_pred, epsilon, 1. - epsilon)\n",
        "        cross_entropy = -y_true * K.log(y_pred)\n",
        "        weight = alpha * K.pow(1 - y_pred, gamma)\n",
        "        loss = weight * cross_entropy\n",
        "        return K.sum(loss, axis=1)\n",
        "    return focal_loss\n"
      ]
    },
    {
      "cell_type": "markdown",
      "id": "fbe43a9d",
      "metadata": {
        "id": "fbe43a9d"
      },
      "source": [
        "## Emotion Mapping"
      ]
    },
    {
      "cell_type": "code",
      "execution_count": null,
      "id": "b5129abc",
      "metadata": {
        "id": "b5129abc"
      },
      "outputs": [],
      "source": [
        "emotion_dict = {\n",
        "    '01': 'neutral',\n",
        "    '02': 'calm',\n",
        "    '03': 'happy',\n",
        "    '04': 'sad',\n",
        "    '05': 'angry',\n",
        "    '06': 'fearful',\n",
        "    '07': 'disgust',\n",
        "    '08': 'surprised'\n",
        "}\n"
      ]
    },
    {
      "cell_type": "markdown",
      "id": "21044e34",
      "metadata": {
        "id": "21044e34"
      },
      "source": [
        "## Extract Features"
      ]
    },
    {
      "cell_type": "code",
      "execution_count": null,
      "id": "EMWvhhqKPliy",
      "metadata": {
        "id": "EMWvhhqKPliy"
      },
      "outputs": [],
      "source": [
        "def extract_features(file_path):\n",
        "    y, sr = librosa.load(file_path, duration=3, offset=0.5, sr=22050)\n",
        "\n",
        "    mfcc = librosa.feature.mfcc(y=y, sr=sr, n_mfcc=60, hop_length=512)\n",
        "    target_length = 130\n",
        "    if mfcc.shape[1] < target_length:\n",
        "        pad_width = target_length - mfcc.shape[1]\n",
        "        mfcc = np.pad(mfcc, ((0, 0), (0, pad_width)), mode='constant')\n",
        "    else:\n",
        "        mfcc = mfcc[:, :target_length]\n",
        "    return mfcc.T"
      ]
    },
    {
      "cell_type": "code",
      "execution_count": null,
      "id": "07ed7eae",
      "metadata": {
        "colab": {
          "base_uri": "https://localhost:8080/"
        },
        "id": "07ed7eae",
        "outputId": "d51c18d5-3579-47e5-8dc1-2822e0f9b1a3"
      },
      "outputs": [
        {
          "name": "stdout",
          "output_type": "stream",
          "text": [
            "Starting Feature Extraction Process...\n",
            "\n",
            "Processing Speech Files...\n",
            "Processing Speech Actor Folder: Actor_05\n",
            "Processing Speech Actor Folder: Actor_03\n",
            "Processing Speech Actor Folder: Actor_09\n",
            "Processing Speech Actor Folder: Actor_06\n",
            "Processing Speech Actor Folder: Actor_08\n",
            "Processing Speech Actor Folder: Actor_04\n",
            "Processing Speech Actor Folder: Actor_02\n",
            "Processing Speech Actor Folder: Actor_01\n",
            "Processing Speech Actor Folder: Actor_07\n",
            "Processing Speech Actor Folder: Actor_11\n",
            "Processing Speech Actor Folder: Actor_16\n",
            "Processing Speech Actor Folder: Actor_17\n",
            "Processing Speech Actor Folder: Actor_12\n",
            "Processing Speech Actor Folder: Actor_18\n",
            "Processing Speech Actor Folder: Actor_14\n",
            "Processing Speech Actor Folder: Actor_15\n",
            "Processing Speech Actor Folder: Actor_13\n",
            "Processing Speech Actor Folder: Actor_10\n",
            "Processing Speech Actor Folder: Actor_19\n",
            "Processing Speech Actor Folder: Actor_20\n",
            "Processing Speech Actor Folder: Actor_24\n",
            "Processing Speech Actor Folder: Actor_22\n",
            "Processing Speech Actor Folder: Actor_21\n",
            "Processing Speech Actor Folder: Actor_23\n",
            "\n",
            "Finished processing Speech Files.\n",
            "\n",
            "Processing Song Files...\n",
            "Processing Song Actor Folder: Actor_10\n",
            "Processing Song Actor Folder: Actor_02\n",
            "Processing Song Actor Folder: Actor_05\n",
            "Processing Song Actor Folder: Actor_01\n",
            "Processing Song Actor Folder: Actor_04\n",
            "Processing Song Actor Folder: Actor_06\n",
            "Processing Song Actor Folder: Actor_07\n",
            "Processing Song Actor Folder: Actor_08\n",
            "Processing Song Actor Folder: Actor_03\n",
            "Processing Song Actor Folder: Actor_09\n",
            "Processing Song Actor Folder: Actor_12\n",
            "Processing Song Actor Folder: Actor_14\n",
            "Processing Song Actor Folder: Actor_16\n",
            "Processing Song Actor Folder: Actor_18\n",
            "Processing Song Actor Folder: Actor_17\n",
            "Processing Song Actor Folder: Actor_13\n",
            "Processing Song Actor Folder: Actor_15\n",
            "Processing Song Actor Folder: Actor_11\n",
            "Processing Song Actor Folder: Actor_20\n",
            "Processing Song Actor Folder: Actor_19\n",
            "Processing Song Actor Folder: Actor_21\n",
            "Processing Song Actor Folder: Actor_23\n",
            "Processing Song Actor Folder: Actor_24\n",
            "Processing Song Actor Folder: Actor_22\n",
            "\n",
            "Finished processing Song Files.\n",
            "\n",
            "Creating DataFrame from extracted features...\n",
            "DataFrame created successfully!\n",
            "Total samples: 4904\n",
            "\n"
          ]
        }
      ],
      "source": [
        "features = []\n",
        "\n",
        "print(\"Starting Feature Extraction Process...\\n\")\n",
        "\n",
        "print(\"Processing Speech Files...\")\n",
        "for folder in os.listdir(speech_path):\n",
        "    print(f\"Processing Speech Actor Folder: {folder}\")\n",
        "    for file in os.listdir(os.path.join(speech_path, folder)):\n",
        "        file_path = os.path.join(speech_path, folder, file)\n",
        "        emotion_label = emotion_dict[file.split('-')[2]]\n",
        "        \n",
        "        features.append([extract_features(file_path), emotion_label])\n",
        "\n",
        "print(\"\\nFinished processing Speech Files.\\n\")\n",
        "\n",
        "print(\"Processing Song Files...\")\n",
        "for folder in os.listdir(song_path):\n",
        "    print(f\"Processing Song Actor Folder: {folder}\")\n",
        "    for file in os.listdir(os.path.join(song_path, folder)):\n",
        "        file_path = os.path.join(song_path, folder, file)\n",
        "        emotion_label = emotion_dict[file.split('-')[2]]\n",
        "        \n",
        "        features.append([extract_features(file_path), emotion_label])\n",
        "\n",
        "print(\"\\nFinished processing Song Files.\\n\")\n",
        "\n",
        "print(\"Creating DataFrame from extracted features...\")\n",
        "df = pd.DataFrame(features, columns=['feature', 'emotion'])\n",
        "print(\"DataFrame created successfully!\")\n",
        "print(f\"Total samples: {len(df)}\\n\")"
      ]
    },
    {
      "cell_type": "markdown",
      "id": "c7ec97ad",
      "metadata": {
        "id": "c7ec97ad"
      },
      "source": [
        "## Encoding"
      ]
    },
    {
      "cell_type": "code",
      "execution_count": null,
      "id": "72c2f0cb",
      "metadata": {
        "colab": {
          "base_uri": "https://localhost:8080/"
        },
        "id": "72c2f0cb",
        "outputId": "22387579-482c-4dde-ac48-7f6ecb099d90"
      },
      "outputs": [
        {
          "name": "stdout",
          "output_type": "stream",
          "text": [
            "Classes: ['angry' 'calm' 'disgust' 'fearful' 'happy' 'neutral' 'sad' 'surprised']\n"
          ]
        }
      ],
      "source": [
        "X = np.array([i for i in df['feature']])\n",
        "y = np.array(df['emotion'].tolist())\n",
        "\n",
        "label_encoder = LabelEncoder()\n",
        "y_encoded = label_encoder.fit_transform(y)\n",
        "y_cat = to_categorical(y_encoded)\n",
        "print(\"Classes:\", label_encoder.classes_)"
      ]
    },
    {
      "cell_type": "code",
      "execution_count": null,
      "id": "1205af2c",
      "metadata": {
        "id": "1205af2c"
      },
      "outputs": [],
      "source": [
        "#split\n",
        "X = np.array([i for i in df['feature']])\n",
        "y = np.array(df['emotion'].tolist())\n",
        "\n",
        "label_encoder = LabelEncoder()\n",
        "y_encoded = label_encoder.fit_transform(y)\n",
        "y_cat = to_categorical(y_encoded)\n",
        "\n",
        "X_train, X_test, y_train, y_test = train_test_split(\n",
        "    X, y_cat, test_size=0.2, random_state=42, stratify=y_cat)\n",
        "\n",
        "# Scale\n",
        "num_samples_train, time_steps, n_mfcc = X_train.shape\n",
        "X_train_flat = X_train.reshape(num_samples_train * time_steps, n_mfcc)\n",
        "\n",
        "\n",
        "scaler = StandardScaler()\n",
        "X_train_scaled_flat = scaler.fit_transform(X_train_flat)\n",
        "X_train_scaled = X_train_scaled_flat.reshape(num_samples_train, time_steps, n_mfcc)\n",
        "\n",
        "num_samples_test = X_test.shape[0]\n",
        "X_test_flat = X_test.reshape(num_samples_test * time_steps, n_mfcc)\n",
        "X_test_scaled_flat = scaler.transform(X_test_flat)  # Only transform, don't fit\n",
        "X_test_scaled = X_test_scaled_flat.reshape(num_samples_test, time_steps, n_mfcc)\n",
        "\n",
        "print(\"Classes:\", label_encoder.classes_)\n",
        "print(\"Training shape:\", X_train_scaled.shape)\n",
        "print(\"Test shape:\", X_test_scaled.shape)"
      ]
    },
    {
      "cell_type": "markdown",
      "id": "ej_AYeza6d-d",
      "metadata": {
        "id": "ej_AYeza6d-d"
      },
      "source": [
        "## Class Weight"
      ]
    },
    {
      "cell_type": "code",
      "execution_count": null,
      "id": "kx5yR11s6fyj",
      "metadata": {
        "id": "kx5yR11s6fyj"
      },
      "outputs": [],
      "source": [
        "y_train_encoded = np.argmax(y_train, axis=1)\n",
        "class_weights = compute_class_weight('balanced', classes=np.unique(y_train_encoded), y=y_train_encoded)\n",
        "class_weight_dict = dict(enumerate(class_weights))"
      ]
    },
    {
      "cell_type": "markdown",
      "id": "6589ded4",
      "metadata": {},
      "source": [
        "## Data augmentation"
      ]
    },
    {
      "cell_type": "code",
      "execution_count": null,
      "id": "29a87329",
      "metadata": {},
      "outputs": [],
      "source": [
        "def augment_feature_array(X, y, label_encoder):\n",
        "    \"\"\"\n",
        "    Augment features selectively for 'happy' and 'sad' classes.\n",
        "    Returns augmented X and y arrays.\n",
        "    \"\"\"\n",
        "    X_augmented = []\n",
        "    y_augmented = []\n",
        "\n",
        "    for i in range(len(X)):\n",
        "        label_idx = np.argmax(y[i])\n",
        "        label = label_encoder.classes_[label_idx]\n",
        "        \n",
        "        if label in ['happy', 'sad']:\n",
        "            \n",
        "            augmented_feature = X[i] + np.random.normal(0, 0.01, X[i].shape)\n",
        "            X_augmented.append(augmented_feature)\n",
        "            y_augmented.append(y[i])\n",
        "\n",
        "\n",
        "    if len(X_augmented) > 0:\n",
        "        X_combined = np.concatenate([X, np.array(X_augmented)], axis=0)\n",
        "        y_combined = np.concatenate([y, np.array(y_augmented)], axis=0)\n",
        "    else:\n",
        "        X_combined = X\n",
        "        y_combined = y\n",
        "\n",
        "    return X_combined, y_combined\n",
        "\n",
        "\n",
        "X_train_aug, y_train_aug = augment_feature_array(X_train_scaled, y_train, label_encoder)\n",
        "\n",
        "print(\"Data Augmentation applied\")\n",
        "print(\"Original training samples:\", X_train_scaled.shape[0])\n",
        "print(\"Augmented training samples:\", X_train_aug.shape[0])"
      ]
    },
    {
      "cell_type": "markdown",
      "id": "071011f4",
      "metadata": {
        "id": "071011f4"
      },
      "source": [
        "## Model"
      ]
    },
    {
      "cell_type": "code",
      "execution_count": null,
      "id": "6e76058c",
      "metadata": {
        "colab": {
          "base_uri": "https://localhost:8080/",
          "height": 776
        },
        "id": "6e76058c",
        "outputId": "6aad409e-da7f-4669-9d46-3c804b7056d6"
      },
      "outputs": [
        {
          "name": "stderr",
          "output_type": "stream",
          "text": [
            "/usr/local/lib/python3.11/dist-packages/keras/src/layers/convolutional/base_conv.py:107: UserWarning: Do not pass an `input_shape`/`input_dim` argument to a layer. When using Sequential models, prefer using an `Input(shape)` object as the first layer in the model instead.\n",
            "  super().__init__(activity_regularizer=activity_regularizer, **kwargs)\n"
          ]
        },
        {
          "data": {
            "text/html": [
              "<pre style=\"white-space:pre;overflow-x:auto;line-height:normal;font-family:Menlo,'DejaVu Sans Mono',consolas,'Courier New',monospace\"><span style=\"font-weight: bold\">Model: \"sequential\"</span>\n",
              "</pre>\n"
            ],
            "text/plain": [
              "\u001b[1mModel: \"sequential\"\u001b[0m\n"
            ]
          },
          "metadata": {},
          "output_type": "display_data"
        },
        {
          "data": {
            "text/html": [
              "<pre style=\"white-space:pre;overflow-x:auto;line-height:normal;font-family:Menlo,'DejaVu Sans Mono',consolas,'Courier New',monospace\">┏━━━━━━━━━━━━━━━━━━━━━━━━━━━━━━━━━┳━━━━━━━━━━━━━━━━━━━━━━━━┳━━━━━━━━━━━━━━━┓\n",
              "┃<span style=\"font-weight: bold\"> Layer (type)                    </span>┃<span style=\"font-weight: bold\"> Output Shape           </span>┃<span style=\"font-weight: bold\">       Param # </span>┃\n",
              "┡━━━━━━━━━━━━━━━━━━━━━━━━━━━━━━━━━╇━━━━━━━━━━━━━━━━━━━━━━━━╇━━━━━━━━━━━━━━━┩\n",
              "│ conv1d (<span style=\"color: #0087ff; text-decoration-color: #0087ff\">Conv1D</span>)                 │ (<span style=\"color: #00d7ff; text-decoration-color: #00d7ff\">None</span>, <span style=\"color: #00af00; text-decoration-color: #00af00\">130</span>, <span style=\"color: #00af00; text-decoration-color: #00af00\">128</span>)       │        <span style=\"color: #00af00; text-decoration-color: #00af00\">38,528</span> │\n",
              "├─────────────────────────────────┼────────────────────────┼───────────────┤\n",
              "│ batch_normalization             │ (<span style=\"color: #00d7ff; text-decoration-color: #00d7ff\">None</span>, <span style=\"color: #00af00; text-decoration-color: #00af00\">130</span>, <span style=\"color: #00af00; text-decoration-color: #00af00\">128</span>)       │           <span style=\"color: #00af00; text-decoration-color: #00af00\">512</span> │\n",
              "│ (<span style=\"color: #0087ff; text-decoration-color: #0087ff\">BatchNormalization</span>)            │                        │               │\n",
              "├─────────────────────────────────┼────────────────────────┼───────────────┤\n",
              "│ max_pooling1d (<span style=\"color: #0087ff; text-decoration-color: #0087ff\">MaxPooling1D</span>)    │ (<span style=\"color: #00d7ff; text-decoration-color: #00d7ff\">None</span>, <span style=\"color: #00af00; text-decoration-color: #00af00\">65</span>, <span style=\"color: #00af00; text-decoration-color: #00af00\">128</span>)        │             <span style=\"color: #00af00; text-decoration-color: #00af00\">0</span> │\n",
              "├─────────────────────────────────┼────────────────────────┼───────────────┤\n",
              "│ dropout (<span style=\"color: #0087ff; text-decoration-color: #0087ff\">Dropout</span>)               │ (<span style=\"color: #00d7ff; text-decoration-color: #00d7ff\">None</span>, <span style=\"color: #00af00; text-decoration-color: #00af00\">65</span>, <span style=\"color: #00af00; text-decoration-color: #00af00\">128</span>)        │             <span style=\"color: #00af00; text-decoration-color: #00af00\">0</span> │\n",
              "├─────────────────────────────────┼────────────────────────┼───────────────┤\n",
              "│ conv1d_1 (<span style=\"color: #0087ff; text-decoration-color: #0087ff\">Conv1D</span>)               │ (<span style=\"color: #00d7ff; text-decoration-color: #00d7ff\">None</span>, <span style=\"color: #00af00; text-decoration-color: #00af00\">65</span>, <span style=\"color: #00af00; text-decoration-color: #00af00\">64</span>)         │        <span style=\"color: #00af00; text-decoration-color: #00af00\">41,024</span> │\n",
              "├─────────────────────────────────┼────────────────────────┼───────────────┤\n",
              "│ batch_normalization_1           │ (<span style=\"color: #00d7ff; text-decoration-color: #00d7ff\">None</span>, <span style=\"color: #00af00; text-decoration-color: #00af00\">65</span>, <span style=\"color: #00af00; text-decoration-color: #00af00\">64</span>)         │           <span style=\"color: #00af00; text-decoration-color: #00af00\">256</span> │\n",
              "│ (<span style=\"color: #0087ff; text-decoration-color: #0087ff\">BatchNormalization</span>)            │                        │               │\n",
              "├─────────────────────────────────┼────────────────────────┼───────────────┤\n",
              "│ max_pooling1d_1 (<span style=\"color: #0087ff; text-decoration-color: #0087ff\">MaxPooling1D</span>)  │ (<span style=\"color: #00d7ff; text-decoration-color: #00d7ff\">None</span>, <span style=\"color: #00af00; text-decoration-color: #00af00\">32</span>, <span style=\"color: #00af00; text-decoration-color: #00af00\">64</span>)         │             <span style=\"color: #00af00; text-decoration-color: #00af00\">0</span> │\n",
              "├─────────────────────────────────┼────────────────────────┼───────────────┤\n",
              "│ dropout_1 (<span style=\"color: #0087ff; text-decoration-color: #0087ff\">Dropout</span>)             │ (<span style=\"color: #00d7ff; text-decoration-color: #00d7ff\">None</span>, <span style=\"color: #00af00; text-decoration-color: #00af00\">32</span>, <span style=\"color: #00af00; text-decoration-color: #00af00\">64</span>)         │             <span style=\"color: #00af00; text-decoration-color: #00af00\">0</span> │\n",
              "├─────────────────────────────────┼────────────────────────┼───────────────┤\n",
              "│ conv1d_2 (<span style=\"color: #0087ff; text-decoration-color: #0087ff\">Conv1D</span>)               │ (<span style=\"color: #00d7ff; text-decoration-color: #00d7ff\">None</span>, <span style=\"color: #00af00; text-decoration-color: #00af00\">32</span>, <span style=\"color: #00af00; text-decoration-color: #00af00\">32</span>)         │         <span style=\"color: #00af00; text-decoration-color: #00af00\">6,176</span> │\n",
              "├─────────────────────────────────┼────────────────────────┼───────────────┤\n",
              "│ batch_normalization_2           │ (<span style=\"color: #00d7ff; text-decoration-color: #00d7ff\">None</span>, <span style=\"color: #00af00; text-decoration-color: #00af00\">32</span>, <span style=\"color: #00af00; text-decoration-color: #00af00\">32</span>)         │           <span style=\"color: #00af00; text-decoration-color: #00af00\">128</span> │\n",
              "│ (<span style=\"color: #0087ff; text-decoration-color: #0087ff\">BatchNormalization</span>)            │                        │               │\n",
              "├─────────────────────────────────┼────────────────────────┼───────────────┤\n",
              "│ bidirectional (<span style=\"color: #0087ff; text-decoration-color: #0087ff\">Bidirectional</span>)   │ (<span style=\"color: #00d7ff; text-decoration-color: #00d7ff\">None</span>, <span style=\"color: #00af00; text-decoration-color: #00af00\">32</span>, <span style=\"color: #00af00; text-decoration-color: #00af00\">256</span>)        │       <span style=\"color: #00af00; text-decoration-color: #00af00\">164,864</span> │\n",
              "├─────────────────────────────────┼────────────────────────┼───────────────┤\n",
              "│ dropout_2 (<span style=\"color: #0087ff; text-decoration-color: #0087ff\">Dropout</span>)             │ (<span style=\"color: #00d7ff; text-decoration-color: #00d7ff\">None</span>, <span style=\"color: #00af00; text-decoration-color: #00af00\">32</span>, <span style=\"color: #00af00; text-decoration-color: #00af00\">256</span>)        │             <span style=\"color: #00af00; text-decoration-color: #00af00\">0</span> │\n",
              "├─────────────────────────────────┼────────────────────────┼───────────────┤\n",
              "│ bidirectional_1 (<span style=\"color: #0087ff; text-decoration-color: #0087ff\">Bidirectional</span>) │ (<span style=\"color: #00d7ff; text-decoration-color: #00d7ff\">None</span>, <span style=\"color: #00af00; text-decoration-color: #00af00\">128</span>)            │       <span style=\"color: #00af00; text-decoration-color: #00af00\">164,352</span> │\n",
              "├─────────────────────────────────┼────────────────────────┼───────────────┤\n",
              "│ dropout_3 (<span style=\"color: #0087ff; text-decoration-color: #0087ff\">Dropout</span>)             │ (<span style=\"color: #00d7ff; text-decoration-color: #00d7ff\">None</span>, <span style=\"color: #00af00; text-decoration-color: #00af00\">128</span>)            │             <span style=\"color: #00af00; text-decoration-color: #00af00\">0</span> │\n",
              "├─────────────────────────────────┼────────────────────────┼───────────────┤\n",
              "│ dense (<span style=\"color: #0087ff; text-decoration-color: #0087ff\">Dense</span>)                   │ (<span style=\"color: #00d7ff; text-decoration-color: #00d7ff\">None</span>, <span style=\"color: #00af00; text-decoration-color: #00af00\">128</span>)            │        <span style=\"color: #00af00; text-decoration-color: #00af00\">16,512</span> │\n",
              "├─────────────────────────────────┼────────────────────────┼───────────────┤\n",
              "│ dropout_4 (<span style=\"color: #0087ff; text-decoration-color: #0087ff\">Dropout</span>)             │ (<span style=\"color: #00d7ff; text-decoration-color: #00d7ff\">None</span>, <span style=\"color: #00af00; text-decoration-color: #00af00\">128</span>)            │             <span style=\"color: #00af00; text-decoration-color: #00af00\">0</span> │\n",
              "├─────────────────────────────────┼────────────────────────┼───────────────┤\n",
              "│ dense_1 (<span style=\"color: #0087ff; text-decoration-color: #0087ff\">Dense</span>)                 │ (<span style=\"color: #00d7ff; text-decoration-color: #00d7ff\">None</span>, <span style=\"color: #00af00; text-decoration-color: #00af00\">8</span>)              │         <span style=\"color: #00af00; text-decoration-color: #00af00\">1,032</span> │\n",
              "└─────────────────────────────────┴────────────────────────┴───────────────┘\n",
              "</pre>\n"
            ],
            "text/plain": [
              "┏━━━━━━━━━━━━━━━━━━━━━━━━━━━━━━━━━┳━━━━━━━━━━━━━━━━━━━━━━━━┳━━━━━━━━━━━━━━━┓\n",
              "┃\u001b[1m \u001b[0m\u001b[1mLayer (type)                   \u001b[0m\u001b[1m \u001b[0m┃\u001b[1m \u001b[0m\u001b[1mOutput Shape          \u001b[0m\u001b[1m \u001b[0m┃\u001b[1m \u001b[0m\u001b[1m      Param #\u001b[0m\u001b[1m \u001b[0m┃\n",
              "┡━━━━━━━━━━━━━━━━━━━━━━━━━━━━━━━━━╇━━━━━━━━━━━━━━━━━━━━━━━━╇━━━━━━━━━━━━━━━┩\n",
              "│ conv1d (\u001b[38;5;33mConv1D\u001b[0m)                 │ (\u001b[38;5;45mNone\u001b[0m, \u001b[38;5;34m130\u001b[0m, \u001b[38;5;34m128\u001b[0m)       │        \u001b[38;5;34m38,528\u001b[0m │\n",
              "├─────────────────────────────────┼────────────────────────┼───────────────┤\n",
              "│ batch_normalization             │ (\u001b[38;5;45mNone\u001b[0m, \u001b[38;5;34m130\u001b[0m, \u001b[38;5;34m128\u001b[0m)       │           \u001b[38;5;34m512\u001b[0m │\n",
              "│ (\u001b[38;5;33mBatchNormalization\u001b[0m)            │                        │               │\n",
              "├─────────────────────────────────┼────────────────────────┼───────────────┤\n",
              "│ max_pooling1d (\u001b[38;5;33mMaxPooling1D\u001b[0m)    │ (\u001b[38;5;45mNone\u001b[0m, \u001b[38;5;34m65\u001b[0m, \u001b[38;5;34m128\u001b[0m)        │             \u001b[38;5;34m0\u001b[0m │\n",
              "├─────────────────────────────────┼────────────────────────┼───────────────┤\n",
              "│ dropout (\u001b[38;5;33mDropout\u001b[0m)               │ (\u001b[38;5;45mNone\u001b[0m, \u001b[38;5;34m65\u001b[0m, \u001b[38;5;34m128\u001b[0m)        │             \u001b[38;5;34m0\u001b[0m │\n",
              "├─────────────────────────────────┼────────────────────────┼───────────────┤\n",
              "│ conv1d_1 (\u001b[38;5;33mConv1D\u001b[0m)               │ (\u001b[38;5;45mNone\u001b[0m, \u001b[38;5;34m65\u001b[0m, \u001b[38;5;34m64\u001b[0m)         │        \u001b[38;5;34m41,024\u001b[0m │\n",
              "├─────────────────────────────────┼────────────────────────┼───────────────┤\n",
              "│ batch_normalization_1           │ (\u001b[38;5;45mNone\u001b[0m, \u001b[38;5;34m65\u001b[0m, \u001b[38;5;34m64\u001b[0m)         │           \u001b[38;5;34m256\u001b[0m │\n",
              "│ (\u001b[38;5;33mBatchNormalization\u001b[0m)            │                        │               │\n",
              "├─────────────────────────────────┼────────────────────────┼───────────────┤\n",
              "│ max_pooling1d_1 (\u001b[38;5;33mMaxPooling1D\u001b[0m)  │ (\u001b[38;5;45mNone\u001b[0m, \u001b[38;5;34m32\u001b[0m, \u001b[38;5;34m64\u001b[0m)         │             \u001b[38;5;34m0\u001b[0m │\n",
              "├─────────────────────────────────┼────────────────────────┼───────────────┤\n",
              "│ dropout_1 (\u001b[38;5;33mDropout\u001b[0m)             │ (\u001b[38;5;45mNone\u001b[0m, \u001b[38;5;34m32\u001b[0m, \u001b[38;5;34m64\u001b[0m)         │             \u001b[38;5;34m0\u001b[0m │\n",
              "├─────────────────────────────────┼────────────────────────┼───────────────┤\n",
              "│ conv1d_2 (\u001b[38;5;33mConv1D\u001b[0m)               │ (\u001b[38;5;45mNone\u001b[0m, \u001b[38;5;34m32\u001b[0m, \u001b[38;5;34m32\u001b[0m)         │         \u001b[38;5;34m6,176\u001b[0m │\n",
              "├─────────────────────────────────┼────────────────────────┼───────────────┤\n",
              "│ batch_normalization_2           │ (\u001b[38;5;45mNone\u001b[0m, \u001b[38;5;34m32\u001b[0m, \u001b[38;5;34m32\u001b[0m)         │           \u001b[38;5;34m128\u001b[0m │\n",
              "│ (\u001b[38;5;33mBatchNormalization\u001b[0m)            │                        │               │\n",
              "├─────────────────────────────────┼────────────────────────┼───────────────┤\n",
              "│ bidirectional (\u001b[38;5;33mBidirectional\u001b[0m)   │ (\u001b[38;5;45mNone\u001b[0m, \u001b[38;5;34m32\u001b[0m, \u001b[38;5;34m256\u001b[0m)        │       \u001b[38;5;34m164,864\u001b[0m │\n",
              "├─────────────────────────────────┼────────────────────────┼───────────────┤\n",
              "│ dropout_2 (\u001b[38;5;33mDropout\u001b[0m)             │ (\u001b[38;5;45mNone\u001b[0m, \u001b[38;5;34m32\u001b[0m, \u001b[38;5;34m256\u001b[0m)        │             \u001b[38;5;34m0\u001b[0m │\n",
              "├─────────────────────────────────┼────────────────────────┼───────────────┤\n",
              "│ bidirectional_1 (\u001b[38;5;33mBidirectional\u001b[0m) │ (\u001b[38;5;45mNone\u001b[0m, \u001b[38;5;34m128\u001b[0m)            │       \u001b[38;5;34m164,352\u001b[0m │\n",
              "├─────────────────────────────────┼────────────────────────┼───────────────┤\n",
              "│ dropout_3 (\u001b[38;5;33mDropout\u001b[0m)             │ (\u001b[38;5;45mNone\u001b[0m, \u001b[38;5;34m128\u001b[0m)            │             \u001b[38;5;34m0\u001b[0m │\n",
              "├─────────────────────────────────┼────────────────────────┼───────────────┤\n",
              "│ dense (\u001b[38;5;33mDense\u001b[0m)                   │ (\u001b[38;5;45mNone\u001b[0m, \u001b[38;5;34m128\u001b[0m)            │        \u001b[38;5;34m16,512\u001b[0m │\n",
              "├─────────────────────────────────┼────────────────────────┼───────────────┤\n",
              "│ dropout_4 (\u001b[38;5;33mDropout\u001b[0m)             │ (\u001b[38;5;45mNone\u001b[0m, \u001b[38;5;34m128\u001b[0m)            │             \u001b[38;5;34m0\u001b[0m │\n",
              "├─────────────────────────────────┼────────────────────────┼───────────────┤\n",
              "│ dense_1 (\u001b[38;5;33mDense\u001b[0m)                 │ (\u001b[38;5;45mNone\u001b[0m, \u001b[38;5;34m8\u001b[0m)              │         \u001b[38;5;34m1,032\u001b[0m │\n",
              "└─────────────────────────────────┴────────────────────────┴───────────────┘\n"
            ]
          },
          "metadata": {},
          "output_type": "display_data"
        },
        {
          "data": {
            "text/html": [
              "<pre style=\"white-space:pre;overflow-x:auto;line-height:normal;font-family:Menlo,'DejaVu Sans Mono',consolas,'Courier New',monospace\"><span style=\"font-weight: bold\"> Total params: </span><span style=\"color: #00af00; text-decoration-color: #00af00\">433,384</span> (1.65 MB)\n",
              "</pre>\n"
            ],
            "text/plain": [
              "\u001b[1m Total params: \u001b[0m\u001b[38;5;34m433,384\u001b[0m (1.65 MB)\n"
            ]
          },
          "metadata": {},
          "output_type": "display_data"
        },
        {
          "data": {
            "text/html": [
              "<pre style=\"white-space:pre;overflow-x:auto;line-height:normal;font-family:Menlo,'DejaVu Sans Mono',consolas,'Courier New',monospace\"><span style=\"font-weight: bold\"> Trainable params: </span><span style=\"color: #00af00; text-decoration-color: #00af00\">432,936</span> (1.65 MB)\n",
              "</pre>\n"
            ],
            "text/plain": [
              "\u001b[1m Trainable params: \u001b[0m\u001b[38;5;34m432,936\u001b[0m (1.65 MB)\n"
            ]
          },
          "metadata": {},
          "output_type": "display_data"
        },
        {
          "data": {
            "text/html": [
              "<pre style=\"white-space:pre;overflow-x:auto;line-height:normal;font-family:Menlo,'DejaVu Sans Mono',consolas,'Courier New',monospace\"><span style=\"font-weight: bold\"> Non-trainable params: </span><span style=\"color: #00af00; text-decoration-color: #00af00\">448</span> (1.75 KB)\n",
              "</pre>\n"
            ],
            "text/plain": [
              "\u001b[1m Non-trainable params: \u001b[0m\u001b[38;5;34m448\u001b[0m (1.75 KB)\n"
            ]
          },
          "metadata": {},
          "output_type": "display_data"
        }
      ],
      "source": [
        "num_classes = y_cat.shape[1]\n",
        "model = Sequential([\n",
        "    Conv1D(128, 5, padding='same', activation='relu', input_shape=(X_train_scaled.shape[1], X_train_scaled.shape[2])),\n",
        "    BatchNormalization(), MaxPooling1D(2), Dropout(0.3),\n",
        "\n",
        "    Conv1D(64, 5, padding='same', activation='relu'),\n",
        "    BatchNormalization(), MaxPooling1D(2), Dropout(0.3),\n",
        "\n",
        "    Conv1D(32, 3, padding='same', activation='relu'),\n",
        "    BatchNormalization(),\n",
        "\n",
        "    Bidirectional(LSTM(128, return_sequences=True)), Dropout(0.3),\n",
        "    Bidirectional(LSTM(64)), Dropout(0.3),\n",
        "\n",
        "    Dense(128, activation='relu'), Dropout(0.4),\n",
        "    Dense(num_classes, activation='softmax')\n",
        "])\n",
        "\n",
        "model.compile(optimizer=Adam(5e-4),\n",
        "              loss=categorical_focal_loss(gamma=2),\n",
        "              metrics=['accuracy'])\n",
        "model.summary()"
      ]
    },
    {
      "cell_type": "markdown",
      "id": "d9cd4bd3",
      "metadata": {
        "id": "d9cd4bd3"
      },
      "source": [
        "## Training"
      ]
    },
    {
      "cell_type": "code",
      "execution_count": null,
      "id": "w6Eg-Mjk6lgs",
      "metadata": {
        "id": "w6Eg-Mjk6lgs"
      },
      "outputs": [],
      "source": [
        "# Callbacks\n",
        "early_stop = EarlyStopping(monitor='val_loss', patience=10, restore_best_weights=True)\n",
        "reduce_lr = ReduceLROnPlateau(monitor='val_loss', factor=0.5, patience=5)"
      ]
    },
    {
      "cell_type": "code",
      "execution_count": null,
      "id": "d7756d6f",
      "metadata": {
        "colab": {
          "base_uri": "https://localhost:8080/"
        },
        "id": "d7756d6f",
        "outputId": "8503b4c5-c8af-40cf-f1ae-2bcadef3b2b7"
      },
      "outputs": [
        {
          "name": "stdout",
          "output_type": "stream",
          "text": [
            "Epoch 1/100\n",
            "\u001b[1m123/123\u001b[0m \u001b[32m━━━━━━━━━━━━━━━━━━━━\u001b[0m\u001b[37m\u001b[0m \u001b[1m15s\u001b[0m 27ms/step - accuracy: 0.2736 - loss: 0.3388 - val_accuracy: 0.5392 - val_loss: 0.1893 - learning_rate: 5.0000e-04\n",
            "Epoch 2/100\n",
            "\u001b[1m123/123\u001b[0m \u001b[32m━━━━━━━━━━━━━━━━━━━━\u001b[0m\u001b[37m\u001b[0m \u001b[1m4s\u001b[0m 20ms/step - accuracy: 0.5837 - loss: 0.1713 - val_accuracy: 0.6544 - val_loss: 0.1286 - learning_rate: 5.0000e-04\n",
            "Epoch 3/100\n",
            "\u001b[1m123/123\u001b[0m \u001b[32m━━━━━━━━━━━━━━━━━━━━\u001b[0m\u001b[37m\u001b[0m \u001b[1m2s\u001b[0m 19ms/step - accuracy: 0.6422 - loss: 0.1362 - val_accuracy: 0.6595 - val_loss: 0.1193 - learning_rate: 5.0000e-04\n",
            "Epoch 4/100\n",
            "\u001b[1m123/123\u001b[0m \u001b[32m━━━━━━━━━━━━━━━━━━━━\u001b[0m\u001b[37m\u001b[0m \u001b[1m3s\u001b[0m 26ms/step - accuracy: 0.6994 - loss: 0.1145 - val_accuracy: 0.6983 - val_loss: 0.0983 - learning_rate: 5.0000e-04\n",
            "Epoch 5/100\n",
            "\u001b[1m123/123\u001b[0m \u001b[32m━━━━━━━━━━━━━━━━━━━━\u001b[0m\u001b[37m\u001b[0m \u001b[1m2s\u001b[0m 18ms/step - accuracy: 0.7214 - loss: 0.0969 - val_accuracy: 0.7034 - val_loss: 0.1171 - learning_rate: 5.0000e-04\n",
            "Epoch 6/100\n",
            "\u001b[1m123/123\u001b[0m \u001b[32m━━━━━━━━━━━━━━━━━━━━\u001b[0m\u001b[37m\u001b[0m \u001b[1m2s\u001b[0m 18ms/step - accuracy: 0.7495 - loss: 0.0853 - val_accuracy: 0.7034 - val_loss: 0.1094 - learning_rate: 5.0000e-04\n",
            "Epoch 7/100\n",
            "\u001b[1m123/123\u001b[0m \u001b[32m━━━━━━━━━━━━━━━━━━━━\u001b[0m\u001b[37m\u001b[0m \u001b[1m3s\u001b[0m 19ms/step - accuracy: 0.8013 - loss: 0.0667 - val_accuracy: 0.7645 - val_loss: 0.0909 - learning_rate: 5.0000e-04\n",
            "Epoch 8/100\n",
            "\u001b[1m123/123\u001b[0m \u001b[32m━━━━━━━━━━━━━━━━━━━━\u001b[0m\u001b[37m\u001b[0m \u001b[1m2s\u001b[0m 18ms/step - accuracy: 0.8229 - loss: 0.0663 - val_accuracy: 0.8094 - val_loss: 0.0637 - learning_rate: 5.0000e-04\n",
            "Epoch 9/100\n",
            "\u001b[1m123/123\u001b[0m \u001b[32m━━━━━━━━━━━━━━━━━━━━\u001b[0m\u001b[37m\u001b[0m \u001b[1m3s\u001b[0m 26ms/step - accuracy: 0.8278 - loss: 0.0541 - val_accuracy: 0.8155 - val_loss: 0.0650 - learning_rate: 5.0000e-04\n",
            "Epoch 10/100\n",
            "\u001b[1m123/123\u001b[0m \u001b[32m━━━━━━━━━━━━━━━━━━━━\u001b[0m\u001b[37m\u001b[0m \u001b[1m2s\u001b[0m 19ms/step - accuracy: 0.8484 - loss: 0.0484 - val_accuracy: 0.8410 - val_loss: 0.0457 - learning_rate: 5.0000e-04\n",
            "Epoch 11/100\n",
            "\u001b[1m123/123\u001b[0m \u001b[32m━━━━━━━━━━━━━━━━━━━━\u001b[0m\u001b[37m\u001b[0m \u001b[1m2s\u001b[0m 19ms/step - accuracy: 0.8601 - loss: 0.0435 - val_accuracy: 0.8022 - val_loss: 0.0715 - learning_rate: 5.0000e-04\n",
            "Epoch 12/100\n",
            "\u001b[1m123/123\u001b[0m \u001b[32m━━━━━━━━━━━━━━━━━━━━\u001b[0m\u001b[37m\u001b[0m \u001b[1m3s\u001b[0m 19ms/step - accuracy: 0.8686 - loss: 0.0373 - val_accuracy: 0.8522 - val_loss: 0.0531 - learning_rate: 5.0000e-04\n",
            "Epoch 13/100\n",
            "\u001b[1m123/123\u001b[0m \u001b[32m━━━━━━━━━━━━━━━━━━━━\u001b[0m\u001b[37m\u001b[0m \u001b[1m3s\u001b[0m 19ms/step - accuracy: 0.8880 - loss: 0.0331 - val_accuracy: 0.8267 - val_loss: 0.0653 - learning_rate: 5.0000e-04\n",
            "Epoch 14/100\n",
            "\u001b[1m123/123\u001b[0m \u001b[32m━━━━━━━━━━━━━━━━━━━━\u001b[0m\u001b[37m\u001b[0m \u001b[1m3s\u001b[0m 27ms/step - accuracy: 0.8877 - loss: 0.0344 - val_accuracy: 0.8644 - val_loss: 0.0438 - learning_rate: 5.0000e-04\n",
            "Epoch 15/100\n",
            "\u001b[1m123/123\u001b[0m \u001b[32m━━━━━━━━━━━━━━━━━━━━\u001b[0m\u001b[37m\u001b[0m \u001b[1m2s\u001b[0m 19ms/step - accuracy: 0.9020 - loss: 0.0274 - val_accuracy: 0.8787 - val_loss: 0.0416 - learning_rate: 5.0000e-04\n",
            "Epoch 16/100\n",
            "\u001b[1m123/123\u001b[0m \u001b[32m━━━━━━━━━━━━━━━━━━━━\u001b[0m\u001b[37m\u001b[0m \u001b[1m3s\u001b[0m 20ms/step - accuracy: 0.9012 - loss: 0.0296 - val_accuracy: 0.8869 - val_loss: 0.0363 - learning_rate: 5.0000e-04\n",
            "Epoch 17/100\n",
            "\u001b[1m123/123\u001b[0m \u001b[32m━━━━━━━━━━━━━━━━━━━━\u001b[0m\u001b[37m\u001b[0m \u001b[1m2s\u001b[0m 19ms/step - accuracy: 0.9250 - loss: 0.0233 - val_accuracy: 0.8858 - val_loss: 0.0427 - learning_rate: 5.0000e-04\n",
            "Epoch 18/100\n",
            "\u001b[1m123/123\u001b[0m \u001b[32m━━━━━━━━━━━━━━━━━━━━\u001b[0m\u001b[37m\u001b[0m \u001b[1m2s\u001b[0m 18ms/step - accuracy: 0.9252 - loss: 0.0229 - val_accuracy: 0.8705 - val_loss: 0.0513 - learning_rate: 5.0000e-04\n",
            "Epoch 19/100\n",
            "\u001b[1m123/123\u001b[0m \u001b[32m━━━━━━━━━━━━━━━━━━━━\u001b[0m\u001b[37m\u001b[0m \u001b[1m3s\u001b[0m 26ms/step - accuracy: 0.9138 - loss: 0.0235 - val_accuracy: 0.8940 - val_loss: 0.0339 - learning_rate: 5.0000e-04\n",
            "Epoch 20/100\n",
            "\u001b[1m123/123\u001b[0m \u001b[32m━━━━━━━━━━━━━━━━━━━━\u001b[0m\u001b[37m\u001b[0m \u001b[1m2s\u001b[0m 19ms/step - accuracy: 0.9225 - loss: 0.0209 - val_accuracy: 0.8970 - val_loss: 0.0299 - learning_rate: 5.0000e-04\n",
            "Epoch 21/100\n",
            "\u001b[1m123/123\u001b[0m \u001b[32m━━━━━━━━━━━━━━━━━━━━\u001b[0m\u001b[37m\u001b[0m \u001b[1m2s\u001b[0m 19ms/step - accuracy: 0.9275 - loss: 0.0188 - val_accuracy: 0.9144 - val_loss: 0.0289 - learning_rate: 5.0000e-04\n",
            "Epoch 22/100\n",
            "\u001b[1m123/123\u001b[0m \u001b[32m━━━━━━━━━━━━━━━━━━━━\u001b[0m\u001b[37m\u001b[0m \u001b[1m2s\u001b[0m 20ms/step - accuracy: 0.9466 - loss: 0.0153 - val_accuracy: 0.9256 - val_loss: 0.0286 - learning_rate: 5.0000e-04\n",
            "Epoch 23/100\n",
            "\u001b[1m123/123\u001b[0m \u001b[32m━━━━━━━━━━━━━━━━━━━━\u001b[0m\u001b[37m\u001b[0m \u001b[1m2s\u001b[0m 20ms/step - accuracy: 0.9387 - loss: 0.0170 - val_accuracy: 0.8940 - val_loss: 0.0360 - learning_rate: 5.0000e-04\n",
            "Epoch 24/100\n",
            "\u001b[1m123/123\u001b[0m \u001b[32m━━━━━━━━━━━━━━━━━━━━\u001b[0m\u001b[37m\u001b[0m \u001b[1m3s\u001b[0m 26ms/step - accuracy: 0.9344 - loss: 0.0182 - val_accuracy: 0.8889 - val_loss: 0.0430 - learning_rate: 5.0000e-04\n",
            "Epoch 25/100\n",
            "\u001b[1m123/123\u001b[0m \u001b[32m━━━━━━━━━━━━━━━━━━━━\u001b[0m\u001b[37m\u001b[0m \u001b[1m4s\u001b[0m 21ms/step - accuracy: 0.9296 - loss: 0.0193 - val_accuracy: 0.9093 - val_loss: 0.0328 - learning_rate: 5.0000e-04\n",
            "Epoch 26/100\n",
            "\u001b[1m123/123\u001b[0m \u001b[32m━━━━━━━━━━━━━━━━━━━━\u001b[0m\u001b[37m\u001b[0m \u001b[1m5s\u001b[0m 20ms/step - accuracy: 0.9394 - loss: 0.0184 - val_accuracy: 0.9103 - val_loss: 0.0294 - learning_rate: 5.0000e-04\n",
            "Epoch 27/100\n",
            "\u001b[1m123/123\u001b[0m \u001b[32m━━━━━━━━━━━━━━━━━━━━\u001b[0m\u001b[37m\u001b[0m \u001b[1m3s\u001b[0m 25ms/step - accuracy: 0.9500 - loss: 0.0127 - val_accuracy: 0.9307 - val_loss: 0.0248 - learning_rate: 5.0000e-04\n",
            "Epoch 28/100\n",
            "\u001b[1m123/123\u001b[0m \u001b[32m━━━━━━━━━━━━━━━━━━━━\u001b[0m\u001b[37m\u001b[0m \u001b[1m3s\u001b[0m 21ms/step - accuracy: 0.9611 - loss: 0.0114 - val_accuracy: 0.9144 - val_loss: 0.0362 - learning_rate: 5.0000e-04\n",
            "Epoch 29/100\n",
            "\u001b[1m123/123\u001b[0m \u001b[32m━━━━━━━━━━━━━━━━━━━━\u001b[0m\u001b[37m\u001b[0m \u001b[1m2s\u001b[0m 19ms/step - accuracy: 0.9448 - loss: 0.0120 - val_accuracy: 0.9246 - val_loss: 0.0343 - learning_rate: 5.0000e-04\n",
            "Epoch 30/100\n",
            "\u001b[1m123/123\u001b[0m \u001b[32m━━━━━━━━━━━━━━━━━━━━\u001b[0m\u001b[37m\u001b[0m \u001b[1m3s\u001b[0m 19ms/step - accuracy: 0.9477 - loss: 0.0143 - val_accuracy: 0.9185 - val_loss: 0.0320 - learning_rate: 5.0000e-04\n",
            "Epoch 31/100\n",
            "\u001b[1m123/123\u001b[0m \u001b[32m━━━━━━━━━━━━━━━━━━━━\u001b[0m\u001b[37m\u001b[0m \u001b[1m2s\u001b[0m 19ms/step - accuracy: 0.9508 - loss: 0.0152 - val_accuracy: 0.9327 - val_loss: 0.0262 - learning_rate: 5.0000e-04\n",
            "Epoch 32/100\n",
            "\u001b[1m123/123\u001b[0m \u001b[32m━━━━━━━━━━━━━━━━━━━━\u001b[0m\u001b[37m\u001b[0m \u001b[1m3s\u001b[0m 24ms/step - accuracy: 0.9646 - loss: 0.0098 - val_accuracy: 0.9490 - val_loss: 0.0198 - learning_rate: 5.0000e-04\n",
            "Epoch 33/100\n",
            "\u001b[1m123/123\u001b[0m \u001b[32m━━━━━━━━━━━━━━━━━━━━\u001b[0m\u001b[37m\u001b[0m \u001b[1m3s\u001b[0m 23ms/step - accuracy: 0.9527 - loss: 0.0141 - val_accuracy: 0.9317 - val_loss: 0.0267 - learning_rate: 5.0000e-04\n",
            "Epoch 34/100\n",
            "\u001b[1m123/123\u001b[0m \u001b[32m━━━━━━━━━━━━━━━━━━━━\u001b[0m\u001b[37m\u001b[0m \u001b[1m5s\u001b[0m 20ms/step - accuracy: 0.9673 - loss: 0.0090 - val_accuracy: 0.9348 - val_loss: 0.0282 - learning_rate: 5.0000e-04\n",
            "Epoch 35/100\n",
            "\u001b[1m123/123\u001b[0m \u001b[32m━━━━━━━━━━━━━━━━━━━━\u001b[0m\u001b[37m\u001b[0m \u001b[1m2s\u001b[0m 19ms/step - accuracy: 0.9636 - loss: 0.0098 - val_accuracy: 0.9378 - val_loss: 0.0294 - learning_rate: 5.0000e-04\n",
            "Epoch 36/100\n",
            "\u001b[1m123/123\u001b[0m \u001b[32m━━━━━━━━━━━━━━━━━━━━\u001b[0m\u001b[37m\u001b[0m \u001b[1m3s\u001b[0m 22ms/step - accuracy: 0.9660 - loss: 0.0101 - val_accuracy: 0.9460 - val_loss: 0.0258 - learning_rate: 5.0000e-04\n",
            "Epoch 37/100\n",
            "\u001b[1m123/123\u001b[0m \u001b[32m━━━━━━━━━━━━━━━━━━━━\u001b[0m\u001b[37m\u001b[0m \u001b[1m3s\u001b[0m 23ms/step - accuracy: 0.9715 - loss: 0.0073 - val_accuracy: 0.9327 - val_loss: 0.0311 - learning_rate: 5.0000e-04\n",
            "Epoch 38/100\n",
            "\u001b[1m123/123\u001b[0m \u001b[32m━━━━━━━━━━━━━━━━━━━━\u001b[0m\u001b[37m\u001b[0m \u001b[1m5s\u001b[0m 20ms/step - accuracy: 0.9722 - loss: 0.0081 - val_accuracy: 0.9541 - val_loss: 0.0224 - learning_rate: 2.5000e-04\n",
            "Epoch 39/100\n",
            "\u001b[1m123/123\u001b[0m \u001b[32m━━━━━━━━━━━━━━━━━━━━\u001b[0m\u001b[37m\u001b[0m \u001b[1m2s\u001b[0m 19ms/step - accuracy: 0.9699 - loss: 0.0063 - val_accuracy: 0.9480 - val_loss: 0.0218 - learning_rate: 2.5000e-04\n",
            "Epoch 40/100\n",
            "\u001b[1m123/123\u001b[0m \u001b[32m━━━━━━━━━━━━━━━━━━━━\u001b[0m\u001b[37m\u001b[0m \u001b[1m3s\u001b[0m 22ms/step - accuracy: 0.9818 - loss: 0.0041 - val_accuracy: 0.9511 - val_loss: 0.0234 - learning_rate: 2.5000e-04\n",
            "Epoch 41/100\n",
            "\u001b[1m123/123\u001b[0m \u001b[32m━━━━━━━━━━━━━━━━━━━━\u001b[0m\u001b[37m\u001b[0m \u001b[1m5s\u001b[0m 20ms/step - accuracy: 0.9760 - loss: 0.0073 - val_accuracy: 0.9551 - val_loss: 0.0243 - learning_rate: 2.5000e-04\n",
            "Epoch 42/100\n",
            "\u001b[1m123/123\u001b[0m \u001b[32m━━━━━━━━━━━━━━━━━━━━\u001b[0m\u001b[37m\u001b[0m \u001b[1m2s\u001b[0m 18ms/step - accuracy: 0.9836 - loss: 0.0054 - val_accuracy: 0.9551 - val_loss: 0.0258 - learning_rate: 2.5000e-04\n"
          ]
        }
      ],
      "source": [
        "history = model.fit(\n",
        "    X_train_aug, y_train_aug,\n",
        "    epochs=100,\n",
        "    batch_size=32,\n",
        "    validation_data=(X_test_scaled, y_test),\n",
        "    callbacks=[early_stop, reduce_lr],\n",
        "    verbose=1\n",
        ")"
      ]
    },
    {
      "cell_type": "markdown",
      "id": "554d5551",
      "metadata": {
        "id": "554d5551"
      },
      "source": [
        "## Eval"
      ]
    },
    {
      "cell_type": "code",
      "execution_count": null,
      "id": "bQ6zROSaYj3q",
      "metadata": {
        "colab": {
          "base_uri": "https://localhost:8080/"
        },
        "id": "bQ6zROSaYj3q",
        "outputId": "c034b6b7-aa21-4544-9c75-5ee1291c1f44"
      },
      "outputs": [
        {
          "name": "stdout",
          "output_type": "stream",
          "text": [
            "\u001b[1m31/31\u001b[0m \u001b[32m━━━━━━━━━━━━━━━━━━━━\u001b[0m\u001b[37m\u001b[0m \u001b[1m0s\u001b[0m 8ms/step - accuracy: 0.9466 - loss: 0.0220\n",
            "Test Accuracy: 94.90%\n",
            "\u001b[1m31/31\u001b[0m \u001b[32m━━━━━━━━━━━━━━━━━━━━\u001b[0m\u001b[37m\u001b[0m \u001b[1m1s\u001b[0m 19ms/step\n",
            "Classification Report:\n",
            "              precision    recall  f1-score   support\n",
            "\n",
            "       angry       0.96      0.95      0.96       150\n",
            "        calm       0.99      0.95      0.97       151\n",
            "     disgust       0.96      0.95      0.95        77\n",
            "     fearful       0.95      0.95      0.95       150\n",
            "       happy       0.97      0.91      0.94       150\n",
            "     neutral       0.95      0.96      0.95        75\n",
            "         sad       0.91      0.96      0.94       151\n",
            "   surprised       0.89      0.97      0.93        77\n",
            "\n",
            "    accuracy                           0.95       981\n",
            "   macro avg       0.95      0.95      0.95       981\n",
            "weighted avg       0.95      0.95      0.95       981\n",
            "\n",
            "Confusion Matrix:\n",
            "[[143   0   1   2   0   0   0   4]\n",
            " [  0 144   0   0   0   1   6   0]\n",
            " [  2   0  73   0   0   0   2   0]\n",
            " [  0   0   0 142   2   0   6   0]\n",
            " [  4   0   2   1 137   2   0   4]\n",
            " [  0   2   0   0   0  72   0   1]\n",
            " [  0   0   0   5   0   1 145   0]\n",
            " [  0   0   0   0   2   0   0  75]]\n"
          ]
        }
      ],
      "source": [
        "# Evaluate\n",
        "test_loss, test_acc = model.evaluate(X_test, y_test)\n",
        "print(f\"Test Accuracy: {test_acc*100:.2f}%\")\n",
        "\n",
        "# Predict\n",
        "y_pred = model.predict(X_test)\n",
        "y_pred_classes = np.argmax(y_pred, axis=1)\n",
        "y_true = np.argmax(y_test, axis=1)\n",
        "\n",
        "# Classification Report\n",
        "print(\"Classification Report:\")\n",
        "print(classification_report(y_true, y_pred_classes, target_names=label_encoder.classes_))\n",
        "\n",
        "# Confusion Matrix\n",
        "print(\"Confusion Matrix:\")\n",
        "print(confusion_matrix(y_true, y_pred_classes))\n"
      ]
    },
    {
      "cell_type": "code",
      "execution_count": null,
      "id": "f78d90d7",
      "metadata": {
        "colab": {
          "base_uri": "https://localhost:8080/"
        },
        "id": "f78d90d7",
        "outputId": "edac467f-b320-4bd1-88de-64d161d14b81"
      },
      "outputs": [
        {
          "name": "stdout",
          "output_type": "stream",
          "text": [
            "\u001b[1m31/31\u001b[0m \u001b[32m━━━━━━━━━━━━━━━━━━━━\u001b[0m\u001b[37m\u001b[0m \u001b[1m0s\u001b[0m 9ms/step - accuracy: 0.9466 - loss: 0.0220\n",
            "Test Accuracy: 94.90%\n"
          ]
        }
      ],
      "source": [
        "test_loss, test_acc = model.evaluate(X_test, y_test)\n",
        "print(f\"Test Accuracy: {test_acc*100:.2f}%\")\n"
      ]
    },
    {
      "cell_type": "code",
      "execution_count": null,
      "id": "vBo7iouEa118",
      "metadata": {
        "colab": {
          "base_uri": "https://localhost:8080/"
        },
        "id": "vBo7iouEa118",
        "outputId": "3ff39dea-b737-4593-e41a-352f09fc2c4b"
      },
      "outputs": [
        {
          "name": "stdout",
          "output_type": "stream",
          "text": [
            "Evaluation function defined!\n"
          ]
        }
      ],
      "source": [
        "def evaluate_model(model, X_test, y_test, label_encoder):\n",
        "    \"\"\"\n",
        "    Evaluate the trained model and generate comprehensive metrics\n",
        "    \"\"\"\n",
        "    print(\"Evaluating model performance...\")\n",
        "\n",
        "    y_pred_probs = model.predict(X_test)\n",
        "    y_pred_classes = np.argmax(y_pred_probs, axis=1)\n",
        "    y_true_classes = np.argmax(y_test, axis=1)\n",
        "\n",
        "    accuracy = accuracy_score(y_true_classes, y_pred_classes)\n",
        "    print(f\"Overall Test Accuracy: {accuracy:.4f} ({accuracy*100:.2f}%)\")\n",
        "\n",
        "    f1_weighted = f1_score(y_true_classes, y_pred_classes, average='weighted')\n",
        "    f1_macro = f1_score(y_true_classes, y_pred_classes, average='macro')\n",
        "\n",
        "    print(f\"Weighted F1 Score: {f1_weighted:.4f} ({f1_weighted*100:.2f}%)\")\n",
        "    print(f\"Macro F1 Score: {f1_macro:.4f} ({f1_macro*100:.2f}%)\")\n",
        "\n",
        "    # Detailed Classification Report\n",
        "    emotion_names = label_encoder.classes_\n",
        "    class_report = classification_report(\n",
        "        y_true_classes, y_pred_classes,\n",
        "        target_names=emotion_names,\n",
        "        output_dict=True\n",
        "    )\n",
        "\n",
        "    print(\"\\n ____Detailed Classification Report:____\")\n",
        "    print(classification_report(y_true_classes, y_pred_classes, target_names=emotion_names))\n",
        "\n",
        "    # Evaluation Criteria Check\n",
        "    print(\"\\n\" + \"=\"*50)\n",
        "    print(\"EVALUATION CRITERIA CHECK:\")\n",
        "    print(\"=\"*50)\n",
        "\n",
        "    meets_f1_requirement = f1_weighted >= 0.80\n",
        "    meets_accuracy_requirement = accuracy >= 0.80\n",
        "\n",
        "    print(f\"Weighted F1 Score > 80%: {'PASS' if meets_f1_requirement else 'FAIL'} ({f1_weighted*100:.2f}%)\")\n",
        "    print(f\"Overall Accuracy > 80%: {'PASS' if meets_accuracy_requirement else 'FAIL'} ({accuracy*100:.2f}%)\")\n",
        "\n",
        "    # Individual Class Accuracies\n",
        "    class_accuracies_pass = True\n",
        "    print(\"\\n Individual Class Recalls:\")\n",
        "    for i, emotion in enumerate(emotion_names):\n",
        "        class_recall = class_report[emotion]['recall']\n",
        "        passes = class_recall >= 0.75\n",
        "        if not passes:\n",
        "            class_accuracies_pass = False\n",
        "        print(f\"  {emotion}: {class_recall*100:.2f}% {'PASS' if passes else 'FAIL'}\")\n",
        "\n",
        "    print(f\"\\nAll Class Recalls > 75%: {'PASS' if class_accuracies_pass else 'FAIL'}\")\n",
        "\n",
        "    overall_pass = meets_f1_requirement and meets_accuracy_requirement and class_accuracies_pass\n",
        "    print(f\"\\nOVERALL EVALUATION: {'PASS' if overall_pass else 'FAIL'}\")\n",
        "\n",
        "    return y_pred_classes, y_true_classes, class_report\n",
        "\n",
        "print(\"Evaluation function defined!\")\n"
      ]
    },
    {
      "cell_type": "code",
      "execution_count": null,
      "id": "E6qmKs-qa6gX",
      "metadata": {
        "colab": {
          "base_uri": "https://localhost:8080/"
        },
        "id": "E6qmKs-qa6gX",
        "outputId": "cfab4930-6038-45f0-ef27-25fd9904dd5a"
      },
      "outputs": [
        {
          "name": "stdout",
          "output_type": "stream",
          "text": [
            "Evaluating model performance...\n",
            "\u001b[1m31/31\u001b[0m \u001b[32m━━━━━━━━━━━━━━━━━━━━\u001b[0m\u001b[37m\u001b[0m \u001b[1m0s\u001b[0m 7ms/step\n",
            "✅ Overall Test Accuracy: 0.9052 (90.52%)\n",
            "✅ Weighted F1 Score: 0.9053 (90.53%)\n",
            "✅ Macro F1 Score: 0.9075 (90.75%)\n",
            "\n",
            "📋 Detailed Classification Report:\n",
            "              precision    recall  f1-score   support\n",
            "\n",
            "       angry       0.96      0.91      0.94       150\n",
            "        calm       0.86      0.89      0.88       151\n",
            "     disgust       0.90      0.94      0.92        77\n",
            "     fearful       0.89      0.96      0.93       150\n",
            "       happy       0.95      0.86      0.90       150\n",
            "     neutral       0.94      0.89      0.92        75\n",
            "         sad       0.86      0.88      0.87       151\n",
            "   surprised       0.91      0.92      0.92        77\n",
            "\n",
            "    accuracy                           0.91       981\n",
            "   macro avg       0.91      0.91      0.91       981\n",
            "weighted avg       0.91      0.91      0.91       981\n",
            "\n",
            "\n",
            "==================================================\n",
            "🎯 EVALUATION CRITERIA CHECK:\n",
            "==================================================\n",
            "✔️ Weighted F1 Score > 80%: PASS ✅ (90.53%)\n",
            "✔️ Overall Accuracy > 80%: PASS ✅ (90.52%)\n",
            "\n",
            "🔍 Individual Class Recalls:\n",
            "  angry: 91.33% PASS ✅\n",
            "  calm: 89.40% PASS ✅\n",
            "  disgust: 93.51% PASS ✅\n",
            "  fearful: 96.00% PASS ✅\n",
            "  happy: 86.00% PASS ✅\n",
            "  neutral: 89.33% PASS ✅\n",
            "  sad: 88.08% PASS ✅\n",
            "  surprised: 92.21% PASS ✅\n",
            "\n",
            "✔️ All Class Recalls > 75%: PASS ✅\n",
            "\n",
            "🏆 OVERALL EVALUATION: PASS ✅\n"
          ]
        }
      ],
      "source": [
        "y_pred_classes, y_true_classes, class_report = evaluate_model(model, X_test, y_test, label_encoder)\n"
      ]
    },
    {
      "cell_type": "code",
      "execution_count": null,
      "id": "Wydyvst1J1Of",
      "metadata": {
        "colab": {
          "base_uri": "https://localhost:8080/",
          "height": 431
        },
        "id": "Wydyvst1J1Of",
        "outputId": "71bd1797-6164-4281-ef7e-df75448ac6df"
      },
      "outputs": [
        {
          "name": "stdout",
          "output_type": "stream",
          "text": [
            "Training history plotting function defined!\n"
          ]
        },
        {
          "data": {
            "image/png": "[encoded data removed]",
            "text/plain": [
              "<Figure size 1400x500 with 2 Axes>"
            ]
          },
          "metadata": {},
          "output_type": "display_data"
        }
      ],
      "source": [
        "import matplotlib.pyplot as plt\n",
        "\n",
        "def plot_training_history(history):\n",
        "    \"\"\"\n",
        "    Plot training and validation accuracy & loss curves.\n",
        "    \"\"\"\n",
        "    acc = history.history['accuracy']\n",
        "    val_acc = history.history['val_accuracy']\n",
        "    loss = history.history['loss']\n",
        "    val_loss = history.history['val_loss']\n",
        "    epochs = range(1, len(acc) + 1)\n",
        "\n",
        "    plt.figure(figsize=(14, 5))\n",
        "\n",
        "    # Plot Accuracy\n",
        "    plt.subplot(1, 2, 1)\n",
        "    plt.plot(epochs, acc, 'b-', label='Training Accuracy')\n",
        "    plt.plot(epochs, val_acc, 'orange', label='Validation Accuracy')\n",
        "    plt.title('Model Accuracy')\n",
        "    plt.xlabel('Epoch')\n",
        "    plt.ylabel('Accuracy')\n",
        "    plt.legend()\n",
        "\n",
        "    # Plot Loss\n",
        "    plt.subplot(1, 2, 2)\n",
        "    plt.plot(epochs, loss, 'b-', label='Training Loss')\n",
        "    plt.plot(epochs, val_loss, 'orange', label='Validation Loss')\n",
        "    plt.title('Model Loss')\n",
        "    plt.xlabel('Epoch')\n",
        "    plt.ylabel('Loss')\n",
        "    plt.legend()\n",
        "\n",
        "    plt.tight_layout()\n",
        "    plt.show()\n",
        "\n",
        "print(\"Training history plotting function defined!\")\n",
        "plot_training_history(history)\n"
      ]
    },
    {
      "cell_type": "markdown",
      "id": "46a497a1",
      "metadata": {
        "id": "46a497a1"
      },
      "source": [
        "## Save model"
      ]
    },
    {
      "cell_type": "code",
      "execution_count": null,
      "id": "d060576b",
      "metadata": {
        "colab": {
          "base_uri": "https://localhost:8080/"
        },
        "id": "d060576b",
        "outputId": "c6e09461-fe73-45ed-ccec-4f27ce8eff04"
      },
      "outputs": [
        {
          "name": "stderr",
          "output_type": "stream",
          "text": [
            "WARNING:absl:You are saving your model as an HDF5 file via `model.save()` or `keras.saving.save_model(model)`. This file format is considered legacy. We recommend using instead the native Keras format, e.g. `model.save('my_model.keras')` or `keras.saving.save_model(model, 'my_model.keras')`. \n"
          ]
        },
        {
          "name": "stdout",
          "output_type": "stream",
          "text": [
            "Model and artifacts saved in '/content/drive/MyDrive/mars' directory!\n"
          ]
        }
      ],
      "source": [
        "import joblib\n",
        "\n",
        "save_path = '/content/drive/MyDrive/mars'\n",
        "\n",
        "model.save(f'{save_path}/emotion_model.h5')\n",
        "\n",
        "# Save preprocessing objects\n",
        "joblib.dump(scaler, f'{save_path}/scaler.pkl')\n",
        "joblib.dump(label_encoder, f'{save_path}/label_encoder.pkl')\n",
        "\n",
        "print(f\"Model and artifacts saved in '{save_path}' directory!\")\n"
      ]
    },
    {
      "cell_type": "code",
      "execution_count": null,
      "id": "unJH0lkjE_Gj",
      "metadata": {
        "id": "unJH0lkjE_Gj"
      },
      "outputs": [],
      "source": [
        "model.save(f'{save_path}/emotion_model.keras')"
      ]
    }
  ],
  "metadata": {
    "accelerator": "GPU",
    "colab": {
      "gpuType": "T4",
      "provenance": []
    },
    "kernelspec": {
      "display_name": "Python 3",
      "name": "python3"
    },
    "language_info": {
      "codemirror_mode": {
        "name": "ipython",
        "version": 3
      },
      "file_extension": ".py",
      "mimetype": "text/x-python",
      "name": "python",
      "nbconvert_exporter": "python",
      "pygments_lexer": "ipython3",
      "version": "3.11.4"
    }
  },
  "nbformat": 4,
  "nbformat_minor": 5
}
